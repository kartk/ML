{
  "nbformat": 4,
  "nbformat_minor": 0,
  "metadata": {
    "colab": {
      "name": "perceptrons.ipynb",
      "provenance": [],
      "collapsed_sections": [],
      "authorship_tag": "ABX9TyMxbMlHjx68NKV7KzDiSRAM",
      "include_colab_link": true
    },
    "kernelspec": {
      "name": "python3",
      "display_name": "Python 3"
    }
  },
  "cells": [
    {
      "cell_type": "markdown",
      "metadata": {
        "id": "view-in-github",
        "colab_type": "text"
      },
      "source": [
        "<a href=\"https://colab.research.google.com/github/kartk/ML/blob/main/perceptrons.ipynb\" target=\"_parent\"><img src=\"https://colab.research.google.com/assets/colab-badge.svg\" alt=\"Open In Colab\"/></a>"
      ]
    },
    {
      "cell_type": "code",
      "metadata": {
        "id": "oPbUfrvWkT-B"
      },
      "source": [
        "import math\n",
        "import numpy as np\n",
        "import matplotlib.pyplot as plt\n",
        "import seaborn as sns"
      ],
      "execution_count": null,
      "outputs": []
    },
    {
      "cell_type": "code",
      "metadata": {
        "id": "vzX2jLRFkBQk"
      },
      "source": [
        "class Perceptron:\n",
        "  def __init__(self, k:int, m:int, epsilon:float, mean:float=0.0, variance:float=1.0)->None:\n",
        "    self.k = k \n",
        "    self.m = m\n",
        "    self.mean = mean;\n",
        "    self.variance = variance;\n",
        "    self.data = self.datagenerator(k, m, epsilon, mean, variance);\n",
        "\n",
        "    self.W = None\n",
        "    self.b = None\n",
        "\n",
        "\n",
        "  def datagenerator(self, k:int, m:int, epsilon:float, mean:float, variance:float)->np.array:\n",
        "    data = []\n",
        "    i = 0\n",
        "\n",
        "    # print(f\"mean {mean}; variance {variance}\")\n",
        "    while i < m :\n",
        "      temp = np.random.normal(mean, math.sqrt(variance), k)\n",
        "      temp = temp / np.linalg.norm(temp)\n",
        "      if np.absolute(temp[-1]) >= epsilon:\n",
        "        i+=1\n",
        "        if (temp[-1] >= epsilon):\n",
        "          temp = np.append(temp, 1)\n",
        "        else :\n",
        "          temp = np.append(temp, -1)\n",
        "        data.append(temp)\n",
        "    return np.array(data)\n",
        "  \n",
        "  def PLA(self):\n",
        "    self.W = np.zeros(self.k)\n",
        "    self.b = 0\n",
        "    count = 0\n",
        "    while (True):\n",
        "      count += 1\n",
        "      preds = np.array([1 if pred >=0 else -1 for pred in np.dot(self.W, self.data[:,:-1].T) + self.b])\n",
        "      misclassified_indices = np.where(preds != self.data[:,-1])[0]\n",
        "      \n",
        "      if self.k == 2:\n",
        "        # Visualization of Hyperplane when feature size is 2. Code taken from :\n",
        "        # https://medium.com/@thomascountz/calculate-the-decision-boundary-of-a-single-perceptron-visualizing-linear-separability-c4d77099ef38\n",
        "        x_intercept = 0 if self.W[0] == 0 else -self.b /self.W[0]\n",
        "        y_intercept = 0 if self.W[1] == 0 else self.b /self.W[1]\n",
        "        slope = 0 if x_intercept==0 else y_intercept/x_intercept\n",
        "        x = np.arange(-1,1, 0.1)\n",
        "        y = np.array([slope * a+ y_intercept for a in x])\n",
        "        sns.set_theme(style=\"darkgrid\")\n",
        "        sns.scatterplot(x=p.data[:,0], y=p.data[:,1], hue = preds)\n",
        "        sns.lineplot(x=x, y=y)\n",
        "        plt.legend(bbox_to_anchor=(1.01, 1),borderaxespad=1)\n",
        "        plt.show()\n",
        "\n",
        "      if len(misclassified_indices) == 0:\n",
        "        # print(\"Done building model!\")\n",
        "        return count\n",
        "      for index in misclassified_indices:\n",
        "        self.W += self.data[index, -1] * self.data[index, :-1]\n",
        "        self.b += self.data[index, -1] \n"
      ],
      "execution_count": null,
      "outputs": []
    },
    {
      "cell_type": "code",
      "metadata": {
        "id": "1ARnjZtKmFo0",
        "outputId": "29a40c37-752f-46f7-f151-d82425e68d37",
        "colab": {
          "base_uri": "https://localhost:8080/",
          "height": 34
        }
      },
      "source": [
        "p = Perceptron(2, 10, 0.1)"
      ],
      "execution_count": null,
      "outputs": [
        {
          "output_type": "stream",
          "text": [
            "mean 0.0; variance 1.0\n"
          ],
          "name": "stdout"
        }
      ]
    },
    {
      "cell_type": "code",
      "metadata": {
        "id": "jBcC5F2kv1Fz",
        "outputId": "779c5ec9-4fc4-4532-e0e5-19e74faac294",
        "colab": {
          "base_uri": "https://localhost:8080/",
          "height": 805
        }
      },
      "source": [
        "p.PLA()"
      ],
      "execution_count": null,
      "outputs": [
        {
          "output_type": "display_data",
          "data": {
            "image/png": "[encoded data removed]",
            "text/plain": [
              "<Figure size 432x288 with 1 Axes>"
            ]
          },
          "metadata": {
            "tags": []
          }
        },
        {
          "output_type": "display_data",
          "data": {
            "image/png": "[encoded data removed]",
            "text/plain": [
              "<Figure size 432x288 with 1 Axes>"
            ]
          },
          "metadata": {
            "tags": []
          }
        },
        {
          "output_type": "display_data",
          "data": {
            "image/png": "[encoded data removed]",
            "text/plain": [
              "<Figure size 432x288 with 1 Axes>"
            ]
          },
          "metadata": {
            "tags": []
          }
        },
        {
          "output_type": "stream",
          "text": [
            "Done building model!\n"
          ],
          "name": "stdout"
        },
        {
          "output_type": "execute_result",
          "data": {
            "text/plain": [
              "3"
            ]
          },
          "metadata": {
            "tags": []
          },
          "execution_count": 72
        }
      ]
    },
    {
      "cell_type": "code",
      "metadata": {
        "id": "y0yKLgB17WsU"
      },
      "source": [
        "preds = np.array([1 if pred >=0 else -1 for pred in np.dot(p.W, p.data[:,:-1].T) + p.b])"
      ],
      "execution_count": null,
      "outputs": []
    },
    {
      "cell_type": "code",
      "metadata": {
        "id": "44mU6UwAIoog",
        "outputId": "d85850d8-c3e4-41f7-887a-b57a13ec5416",
        "colab": {
          "base_uri": "https://localhost:8080/",
          "height": 34
        }
      },
      "source": [
        "\n",
        "preds"
      ],
      "execution_count": null,
      "outputs": [
        {
          "output_type": "execute_result",
          "data": {
            "text/plain": [
              "array([-1, -1,  1, -1, -1, -1, -1, -1, -1,  1])"
            ]
          },
          "metadata": {
            "tags": []
          },
          "execution_count": 65
        }
      ]
    },
    {
      "cell_type": "code",
      "metadata": {
        "id": "7a-Lg3TcIqUp",
        "outputId": "f11564a2-d7fb-4a83-b0c8-d278314b8b5e",
        "colab": {
          "base_uri": "https://localhost:8080/",
          "height": 34
        }
      },
      "source": [
        "p.data[:,-1]"
      ],
      "execution_count": null,
      "outputs": [
        {
          "output_type": "execute_result",
          "data": {
            "text/plain": [
              "array([-1., -1.,  1., -1., -1., -1., -1., -1., -1.,  1.])"
            ]
          },
          "metadata": {
            "tags": []
          },
          "execution_count": 66
        }
      ]
    },
    {
      "cell_type": "code",
      "metadata": {
        "id": "mesBv6FN7jRP",
        "outputId": "a1b636b6-1c27-4521-a1c2-742278d50d6c",
        "colab": {
          "base_uri": "https://localhost:8080/",
          "height": 52
        }
      },
      "source": [
        "np.dot(np.array([[1,2],[1,2]]) ,np.array([[2],[2]]))"
      ],
      "execution_count": null,
      "outputs": [
        {
          "output_type": "execute_result",
          "data": {
            "text/plain": [
              "array([[6],\n",
              "       [6]])"
            ]
          },
          "metadata": {
            "tags": []
          },
          "execution_count": 28
        }
      ]
    },
    {
      "cell_type": "markdown",
      "metadata": {
        "id": "WCWJKrG18GlW"
      },
      "source": [
        "1) For k = 5, \u000f = 0.1, for a range of possible m values, repeatedly generate data sets of size m and fit a perceptron\n",
        "to them. Plot, as a function of m, the average number of steps needed for the Perceptron Learning Algorithm\n",
        "to converge. Do your results make sense? Do you think looking at larger and larger m values outside the range\n",
        "you plot will produce anything different?"
      ]
    },
    {
      "cell_type": "code",
      "metadata": {
        "id": "kTLBmVuCH8TM",
        "outputId": "267343d9-3c1c-4b83-9abd-4f01320fd228",
        "colab": {
          "base_uri": "https://localhost:8080/",
          "height": 69
        }
      },
      "source": [
        "p =Perceptron(10, 1000, 0.1)\n",
        "p.PLA()"
      ],
      "execution_count": null,
      "outputs": [
        {
          "output_type": "stream",
          "text": [
            "mean 0.0; variance 1.0\n",
            "Done building model!\n"
          ],
          "name": "stdout"
        },
        {
          "output_type": "execute_result",
          "data": {
            "text/plain": [
              "3"
            ]
          },
          "metadata": {
            "tags": []
          },
          "execution_count": 53
        }
      ]
    },
    {
      "cell_type": "code",
      "metadata": {
        "id": "sljyrI8MGrS-"
      },
      "source": [
        "m_range = np.arange(100, 10000, 100)\n",
        "steps_convergence = []\n",
        "for m in m_range:\n",
        "  steps_inner = np.array([])\n",
        "  for i in range(25):\n",
        "    p = Perceptron(k=5, m=m, epsilon=0.1)\n",
        "    steps_inner = np.append(steps_inner, p.PLA())\n",
        "  steps_convergence.append(np.average(steps_inner))"
      ],
      "execution_count": null,
      "outputs": []
    },
    {
      "cell_type": "code",
      "metadata": {
        "id": "gSvB3o4PIEbA",
        "outputId": "d9d5424e-4d21-43d2-826a-0342d01e1f9c",
        "colab": {
          "base_uri": "https://localhost:8080/",
          "height": 1000
        }
      },
      "source": [
        "steps_convergence"
      ],
      "execution_count": null,
      "outputs": [
        {
          "output_type": "execute_result",
          "data": {
            "text/plain": [
              "[4.68,\n",
              " 4.56,\n",
              " 4.32,\n",
              " 4.2,\n",
              " 4.12,\n",
              " 4.36,\n",
              " 4.0,\n",
              " 4.16,\n",
              " 4.04,\n",
              " 3.88,\n",
              " 4.12,\n",
              " 3.72,\n",
              " 3.52,\n",
              " 3.36,\n",
              " 3.6,\n",
              " 3.4,\n",
              " 4.36,\n",
              " 3.64,\n",
              " 3.92,\n",
              " 3.6,\n",
              " 3.24,\n",
              " 3.56,\n",
              " 4.08,\n",
              " 3.28,\n",
              " 3.28,\n",
              " 3.52,\n",
              " 3.4,\n",
              " 3.24,\n",
              " 3.6,\n",
              " 3.2,\n",
              " 3.36,\n",
              " 3.04,\n",
              " 3.04,\n",
              " 3.04,\n",
              " 3.08,\n",
              " 3.4,\n",
              " 3.12,\n",
              " 3.4,\n",
              " 3.12,\n",
              " 3.0,\n",
              " 3.08,\n",
              " 3.0,\n",
              " 3.24,\n",
              " 3.4,\n",
              " 3.04,\n",
              " 3.0,\n",
              " 3.0,\n",
              " 3.0,\n",
              " 3.12,\n",
              " 3.0,\n",
              " 3.0,\n",
              " 3.0,\n",
              " 3.32,\n",
              " 3.2,\n",
              " 3.08,\n",
              " 3.0,\n",
              " 3.0,\n",
              " 3.2,\n",
              " 3.0,\n",
              " 3.0,\n",
              " 3.12,\n",
              " 3.0,\n",
              " 3.0,\n",
              " 3.0,\n",
              " 3.0,\n",
              " 3.68,\n",
              " 3.0,\n",
              " 3.0,\n",
              " 3.4,\n",
              " 3.0,\n",
              " 3.0,\n",
              " 3.0,\n",
              " 3.0,\n",
              " 3.0,\n",
              " 3.0,\n",
              " 3.0,\n",
              " 3.0,\n",
              " 3.0,\n",
              " 3.0,\n",
              " 3.0,\n",
              " 3.0,\n",
              " 3.0,\n",
              " 3.0,\n",
              " 3.0,\n",
              " 3.0,\n",
              " 3.0,\n",
              " 3.0,\n",
              " 3.0,\n",
              " 3.0,\n",
              " 3.0,\n",
              " 3.0,\n",
              " 3.0,\n",
              " 3.0,\n",
              " 3.0,\n",
              " 3.0,\n",
              " 3.0,\n",
              " 3.0,\n",
              " 3.0,\n",
              " 3.0]"
            ]
          },
          "metadata": {
            "tags": []
          },
          "execution_count": 85
        }
      ]
    },
    {
      "cell_type": "code",
      "metadata": {
        "id": "xMwwSGdOPsx7",
        "outputId": "2fd116c2-ea71-4661-c2f6-c444fc159d47",
        "colab": {
          "base_uri": "https://localhost:8080/",
          "height": 287
        }
      },
      "source": [
        "plt.plot(m_range, steps_convergence)"
      ],
      "execution_count": null,
      "outputs": [
        {
          "output_type": "execute_result",
          "data": {
            "text/plain": [
              "[<matplotlib.lines.Line2D at 0x7f3a77b91b70>]"
            ]
          },
          "metadata": {
            "tags": []
          },
          "execution_count": 86
        },
        {
          "output_type": "display_data",
          "data": {
            "image/png": "[encoded data removed]",
            "text/plain": [
              "<Figure size 432x288 with 1 Axes>"
            ]
          },
          "metadata": {
            "tags": []
          }
        }
      ]
    },
    {
      "cell_type": "code",
      "metadata": {
        "id": "jn0Adq7ZIKI1",
        "outputId": "0af842ec-ea3d-4378-bc03-c6f7b1b6438f",
        "colab": {
          "base_uri": "https://localhost:8080/",
          "height": 34
        }
      },
      "source": [
        "p.data.shape"
      ],
      "execution_count": null,
      "outputs": [
        {
          "output_type": "execute_result",
          "data": {
            "text/plain": [
              "(9500, 51)"
            ]
          },
          "metadata": {
            "tags": []
          },
          "execution_count": 80
        }
      ]
    },
    {
      "cell_type": "code",
      "metadata": {
        "id": "fP1NyCTnNF28"
      },
      "source": [
        "k_range = np.arange(5, 200, 5)\n",
        "steps_convergence = []\n",
        "for k in k_range:\n",
        "  steps_inner = np.array([])\n",
        "  for i in range(100):\n",
        "    p = Perceptron(k=k, m=100, epsilon=0.05)\n",
        "    steps_inner = np.append(steps_inner, p.PLA())\n",
        "  steps_convergence.append(np.average(steps_inner))"
      ],
      "execution_count": null,
      "outputs": []
    },
    {
      "cell_type": "code",
      "metadata": {
        "id": "aQ_t3DTQfWng",
        "outputId": "06514751-4321-44af-d55b-eb4855f3d69c",
        "colab": {
          "base_uri": "https://localhost:8080/",
          "height": 285
        }
      },
      "source": [
        "plt.plot(k_range, steps_convergence)"
      ],
      "execution_count": null,
      "outputs": [
        {
          "output_type": "execute_result",
          "data": {
            "text/plain": [
              "[<matplotlib.lines.Line2D at 0x7f3a77b6bb70>]"
            ]
          },
          "metadata": {
            "tags": []
          },
          "execution_count": 88
        },
        {
          "output_type": "display_data",
          "data": {
            "image/png": "[encoded data removed]",
            "text/plain": [
              "<Figure size 432x288 with 1 Axes>"
            ]
          },
          "metadata": {
            "tags": []
          }
        }
      ]
    },
    {
      "cell_type": "code",
      "metadata": {
        "id": "FeKTzxY1k1io"
      },
      "source": [
        "eps_range = np.arange(0, 1, 0.1)\n",
        "steps_convergence = []\n",
        "for eps in eps_range:\n",
        "  steps_inner = np.array([])\n",
        "  for i in range(100):\n",
        "    p = Perceptron(k=5, m=100, epsilon=eps)\n",
        "    steps_inner = np.append(steps_inner, p.PLA())\n",
        "  steps_convergence.append(np.average(steps_inner))"
      ],
      "execution_count": null,
      "outputs": []
    },
    {
      "cell_type": "code",
      "metadata": {
        "id": "5Rtwjgi9nryM",
        "outputId": "404c5fc8-7be5-4214-fc8b-c006edc3e237",
        "colab": {
          "base_uri": "https://localhost:8080/",
          "height": 285
        }
      },
      "source": [
        "plt.plot(eps_range, steps_convergence)"
      ],
      "execution_count": null,
      "outputs": [
        {
          "output_type": "execute_result",
          "data": {
            "text/plain": [
              "[<matplotlib.lines.Line2D at 0x7f3a77af9dd8>]"
            ]
          },
          "metadata": {
            "tags": []
          },
          "execution_count": 94
        },
        {
          "output_type": "display_data",
          "data": {
            "image/png": "[encoded data removed]",
            "text/plain": [
              "<Figure size 432x288 with 1 Axes>"
            ]
          },
          "metadata": {
            "tags": []
          }
        }
      ]
    },
    {
      "cell_type": "code",
      "metadata": {
        "id": "n6xrDkO_nwVW"
      },
      "source": [
        ""
      ],
      "execution_count": null,
      "outputs": []
    }
  ]
}