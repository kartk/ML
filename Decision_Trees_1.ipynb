{
  "nbformat": 4,
  "nbformat_minor": 0,
  "metadata": {
    "colab": {
      "name": "Decision Trees - 1",
      "provenance": [],
      "collapsed_sections": [],
      "authorship_tag": "ABX9TyPQS7CYg0m7zkZOLyrAllUL",
      "include_colab_link": true
    },
    "kernelspec": {
      "name": "python3",
      "display_name": "Python 3"
    }
  },
  "cells": [
    {
      "cell_type": "markdown",
      "metadata": {
        "id": "view-in-github",
        "colab_type": "text"
      },
      "source": [
        "<a href=\"https://colab.research.google.com/github/kartk/ML/blob/main/Decision_Trees_1.ipynb\" target=\"_parent\"><img src=\"https://colab.research.google.com/assets/colab-badge.svg\" alt=\"Open In Colab\"/></a>"
      ]
    },
    {
      "cell_type": "code",
      "metadata": {
        "id": "xgnHL-ZnFLaw"
      },
      "source": [
        "import numpy as np\n",
        "from typing import List, Tuple"
      ],
      "execution_count": null,
      "outputs": []
    },
    {
      "cell_type": "markdown",
      "metadata": {
        "id": "iTnwKxDQGnd2"
      },
      "source": [
        "# *Creating Data*"
      ]
    },
    {
      "cell_type": "markdown",
      "metadata": {
        "id": "bWe5lKbzGyZ5"
      },
      "source": [
        "1)  For a given value of k, m, (number of features, number of data points), write a function to generate a trainingdata set based on the above scheme."
      ]
    },
    {
      "cell_type": "code",
      "metadata": {
        "id": "yWIbg0WAHIYL"
      },
      "source": [
        "class Node:\n",
        "  def __init__(self, data):\n",
        "    self.left = None\n",
        "    self.right = None\n",
        "    self.data = data\n",
        "  def pretty_print(self):\n",
        "      print_tree(self,nameattr=\"data\")\n",
        "\n",
        "\n",
        "class DecisionTree:\n",
        "  def __init__(self, k:int, m:int )-> None:\n",
        "    self.data = self.datagenerator(k,m)\n",
        "    self.tree = None\n",
        "  def datagenerator(self, k:int, m:int)->List[List[int]]:\n",
        "    \"\"\"\n",
        "    Input:\n",
        "      k: number of features\n",
        "      m: number of data points\n",
        "    Returns:\n",
        "      Numpy array of size (m,k)\n",
        "    \"\"\"\n",
        "    data = []\n",
        "    w_den = sum([np.power(0.9, i) for i in range(2, k+1)])\n",
        "    for i in range(m):\n",
        "      X = [np.random.choice([1,0], p=[0.5, 0.5])]\n",
        "      for j in range(1,k):\n",
        "        X.append(np.random.choice([X[j-1], 1-X[j-1]], p = [0.75, 0.25]))\n",
        "      X.append(X[1] if (sum([ np.power(0.9, j)/w_den * X_j for j, X_j in enumerate(X[1:])]) >= 0.5) else (1 - X[1]))\n",
        "      data.append(X)\n",
        "    return np.array(data)\n",
        "\n",
        "  def entropy(self, vector:np.array)->np.array:\n",
        "    P_0 = (vector == 0).sum(0) / len(vector)\n",
        "    P_1 = (vector == 1).sum(0) / len(vector)\n",
        "    H_Y = - P_0 * np.log2(P_0) - P_1 * np.log2(P_1)\n",
        "    return H_Y\n",
        "\n",
        "  def fit(self, data):\n",
        "    # print(data)\n",
        "    X, Y = data[:,:-1], data[:,-1]\n",
        "    if ((Y == 0).sum(0) == len(Y) or (Y == 1).sum(0) == len(Y)):\n",
        "      print(\"returning\")\n",
        "      return Node(\"Y=0\") if (Y == 0).sum(0) == len(Y) else Node(\"Y=1\")\n",
        "    # Calculating H(Y)\n",
        "    H_Y = self.entropy(Y)\n",
        "\n",
        "    # # Calculating H(Y|X)\n",
        "    cond_X_Y = []\n",
        "    for i in range(X.shape[1]):\n",
        "      P_X_0 = (X[:,i] == 0).sum(0) / len(X[:,i])\n",
        "      P_X_1 = (X[:,i] == 1).sum(0) / len(X[:,i])\n",
        "      # print(Y[np.where(X[:,i]==0)])\n",
        "      # print(Y[np.where(X[:,i]==1)])\n",
        "      H_Y_X_0 = max(0, self.entropy(Y[np.where(X[:,i]==0)]))\n",
        "      H_Y_X_1 = max(0, self.entropy(Y[np.where(X[:,i]==1)]))\n",
        "      # print(f\"{i} {H_Y_X_0} {H_Y_X_1}\")\n",
        "      cond_X_Y.append(P_X_0 * H_Y_X_0 + P_X_1 * H_Y_X_1)\n",
        "    IG = H_Y - cond_X_Y\n",
        "    print(IG)\n",
        "    # print(H_Y)\n",
        "    # print(cond_X_Y)\n",
        "    # print(IG)\n",
        "    max_IG = np.argmax(IG)\n",
        "    print(max_IG)\n",
        "    print()\n",
        "    print(\"fitting 0\")\n",
        "    node = Node(max_IG)\n",
        "    node.left = self.fit(data[np.where(data[:,max_IG] == 0)])\n",
        "    print(\"fitting 1\")\n",
        "    node.right = self.fit(data[np.where(data[:,max_IG] == 1)])\n",
        "    return node\n",
        "  def train(self):\n",
        "    self.tree=self.fit(self.data)\n",
        "\n"
      ],
      "execution_count": 211,
      "outputs": []
    },
    {
      "cell_type": "code",
      "metadata": {
        "id": "nJgU4JRIc0Ve"
      },
      "source": [
        "dt = DecisionTree(3, 8)"
      ],
      "execution_count": 218,
      "outputs": []
    },
    {
      "cell_type": "code",
      "metadata": {
        "id": "qbryRHp9c-C0",
        "outputId": "ea1a1eea-9e23-4519-e299-595a2bd00aea",
        "colab": {
          "base_uri": "https://localhost:8080/"
        }
      },
      "source": [
        "dt.train()"
      ],
      "execution_count": 220,
      "outputs": [
        {
          "output_type": "stream",
          "text": [
            "[0.204434   0.12255625 0.46691719]\n",
            "2\n",
            "\n",
            "fitting 0\n",
            "returning\n",
            "fitting 1\n",
            "[0.91829583 0.91829583 0.        ]\n",
            "0\n",
            "\n",
            "fitting 0\n",
            "returning\n",
            "fitting 1\n",
            "returning\n"
          ],
          "name": "stdout"
        },
        {
          "output_type": "stream",
          "text": [
            "/usr/local/lib/python3.6/dist-packages/ipykernel_launcher.py:35: RuntimeWarning: divide by zero encountered in log2\n",
            "/usr/local/lib/python3.6/dist-packages/ipykernel_launcher.py:35: RuntimeWarning: invalid value encountered in double_scalars\n",
            "/usr/local/lib/python3.6/dist-packages/ipykernel_launcher.py:33: RuntimeWarning: invalid value encountered in long_scalars\n",
            "/usr/local/lib/python3.6/dist-packages/ipykernel_launcher.py:34: RuntimeWarning: invalid value encountered in long_scalars\n"
          ],
          "name": "stderr"
        }
      ]
    },
    {
      "cell_type": "code",
      "metadata": {
        "id": "YOtTLKadpExl",
        "outputId": "ab567faf-17d1-4e25-b77d-5d1ceba7a5a4",
        "colab": {
          "base_uri": "https://localhost:8080/"
        }
      },
      "source": [
        "dt.data"
      ],
      "execution_count": 219,
      "outputs": [
        {
          "output_type": "execute_result",
          "data": {
            "text/plain": [
              "array([[0, 0, 1, 0],\n",
              "       [0, 0, 0, 1],\n",
              "       [0, 0, 0, 1],\n",
              "       [1, 1, 0, 1],\n",
              "       [1, 1, 1, 1],\n",
              "       [0, 0, 1, 0],\n",
              "       [0, 0, 0, 1],\n",
              "       [1, 0, 0, 1]])"
            ]
          },
          "metadata": {
            "tags": []
          },
          "execution_count": 219
        }
      ]
    },
    {
      "cell_type": "code",
      "metadata": {
        "id": "VmqTRQ4FdH51",
        "outputId": "1fbd96ab-fbba-4af5-ef49-dbbdc5a8f524",
        "colab": {
          "base_uri": "https://localhost:8080/"
        }
      },
      "source": [
        "dt.tree.pretty_print()"
      ],
      "execution_count": 221,
      "outputs": [
        {
          "output_type": "stream",
          "text": [
            "  ┌Y=1\n",
            " 2┤\n",
            "  | ┌Y=0\n",
            "  └0┤\n",
            "    └Y=1\n"
          ],
          "name": "stdout"
        }
      ]
    },
    {
      "cell_type": "code",
      "metadata": {
        "id": "duEkuz9eo9Ay"
      },
      "source": [
        ""
      ],
      "execution_count": null,
      "outputs": []
    },
    {
      "cell_type": "code",
      "metadata": {
        "id": "a1ed6g3wL6kQ"
      },
      "source": [
        "data = datagenerator(k=4, m =30)"
      ],
      "execution_count": null,
      "outputs": []
    },
    {
      "cell_type": "code",
      "metadata": {
        "id": "90BXRiLEqFl_"
      },
      "source": [
        "def entropy(vector):\n",
        "  P_0 = (vector == 0).sum(0) / len(vector)\n",
        "  P_1 = (vector == 1).sum(0) / len(vector)\n",
        "  H_Y = - P_0 * np.log2(P_0) - P_1 * np.log2(P_1)\n",
        "  return H_Y"
      ],
      "execution_count": null,
      "outputs": []
    },
    {
      "cell_type": "code",
      "metadata": {
        "id": "P8iYcqtZjbhS"
      },
      "source": [
        "def fit(data):\n",
        "  print(data)\n",
        "  X, Y = data[:,:-1], data[:,-1]\n",
        "  if ((Y == 0).sum(0) == len(Y) or (Y == 1).sum(0) == len(Y)):\n",
        "    print(\"returning\")\n",
        "    return\n",
        "  # Calculating H(Y)\n",
        "  H_Y = entropy(Y)\n",
        "\n",
        "  # # Calculating H(Y|X)\n",
        "  cond_X_Y = []\n",
        "  for i in range(X.shape[1]):\n",
        "    P_X_0 = (X[:,i] == 0).sum(0) / len(X[:,i])\n",
        "    P_X_1 = (X[:,i] == 1).sum(0) / len(X[:,i])\n",
        "    \n",
        "\n",
        "    # print(Y[np.where(X[:,i]==0)])\n",
        "    # print(Y[np.where(X[:,i]==1)])\n",
        "\n",
        "\n",
        "    H_Y_X_0 = max(0, entropy(Y[np.where(X[:,i]==0)]))\n",
        "    H_Y_X_1 = max(0, entropy(Y[np.where(X[:,i]==1)]))\n",
        "    # print(f\"{i} {H_Y_X_0} {H_Y_X_1}\")\n",
        "    cond_X_Y.append(P_X_0 * H_Y_X_0 + P_X_1 * H_Y_X_1)\n",
        "\n",
        "\n",
        "  IG = H_Y - cond_X_Y\n",
        "  print(H_Y)\n",
        "  print(cond_X_Y)\n",
        "  print(IG)\n",
        "\n",
        "  max_IG = np.argmax(IG)\n",
        "  print(max_IG)\n",
        "  print()\n",
        "  print(\"fitting 0\")\n",
        "  fit(data[np.where(data[:,max_IG] == 0)])\n",
        "  print(\"fitting 1\")\n",
        "  fit(data[np.where(data[:,max_IG] == 1)])\n",
        "\n"
      ],
      "execution_count": null,
      "outputs": []
    },
    {
      "cell_type": "code",
      "metadata": {
        "id": "tgSvsW2IsFC8",
        "outputId": "b4242886-7942-4f22-8d6b-85f4a6f46378",
        "colab": {
          "base_uri": "https://localhost:8080/"
        }
      },
      "source": [
        "fit(data)"
      ],
      "execution_count": null,
      "outputs": [
        {
          "output_type": "stream",
          "text": [
            "[[0 1 1 1 1]\n",
            " [0 0 1 0 1]\n",
            " [0 0 0 0 1]\n",
            " [1 1 0 1 1]\n",
            " [0 1 1 0 1]\n",
            " [0 0 0 0 1]\n",
            " [0 1 1 1 1]\n",
            " [0 0 0 0 1]\n",
            " [1 0 0 0 1]\n",
            " [0 0 1 0 1]\n",
            " [0 0 0 0 1]\n",
            " [0 1 1 1 1]\n",
            " [1 1 1 1 1]\n",
            " [1 1 0 0 0]\n",
            " [0 0 0 0 1]\n",
            " [0 0 0 0 1]\n",
            " [0 1 1 1 1]\n",
            " [0 0 0 1 1]\n",
            " [0 0 1 1 0]\n",
            " [1 1 1 1 1]\n",
            " [0 0 0 0 1]\n",
            " [1 1 1 1 1]\n",
            " [1 1 1 1 1]\n",
            " [1 1 1 1 1]\n",
            " [1 1 0 0 0]\n",
            " [0 1 0 1 1]\n",
            " [0 0 1 1 0]\n",
            " [0 1 1 1 1]\n",
            " [0 0 0 0 1]\n",
            " [0 0 0 1 1]]\n",
            "0.5665095065529053\n",
            "[0.5468627893834475, 0.5665095065529053, 0.5665095065529053, 0.5660149997115376]\n",
            "[0.01964672 0.         0.         0.00049451]\n",
            "0\n",
            "\n",
            "fitting 0\n",
            "[[0 1 1 1 1]\n",
            " [0 0 1 0 1]\n",
            " [0 0 0 0 1]\n",
            " [0 1 1 0 1]\n",
            " [0 0 0 0 1]\n",
            " [0 1 1 1 1]\n",
            " [0 0 0 0 1]\n",
            " [0 0 1 0 1]\n",
            " [0 0 0 0 1]\n",
            " [0 1 1 1 1]\n",
            " [0 0 0 0 1]\n",
            " [0 0 0 0 1]\n",
            " [0 1 1 1 1]\n",
            " [0 0 0 1 1]\n",
            " [0 0 1 1 0]\n",
            " [0 0 0 0 1]\n",
            " [0 1 0 1 1]\n",
            " [0 0 1 1 0]\n",
            " [0 1 1 1 1]\n",
            " [0 0 0 0 1]\n",
            " [0 0 0 1 1]]\n",
            "0.4537163391869448\n",
            "[0.4537163391869448, 0.394448519054885, 0.3437752832796963, 0.3437752832796963]\n",
            "[0.         0.05926782 0.10994106 0.10994106]\n",
            "2\n",
            "\n",
            "fitting 0\n",
            "[[0 0 0 0 1]\n",
            " [0 0 0 0 1]\n",
            " [0 0 0 0 1]\n",
            " [0 0 0 0 1]\n",
            " [0 0 0 0 1]\n",
            " [0 0 0 0 1]\n",
            " [0 0 0 1 1]\n",
            " [0 0 0 0 1]\n",
            " [0 1 0 1 1]\n",
            " [0 0 0 0 1]\n",
            " [0 0 0 1 1]]\n",
            "returning\n",
            "fitting 1\n",
            "[[0 1 1 1 1]\n",
            " [0 0 1 0 1]\n",
            " [0 1 1 0 1]\n",
            " [0 1 1 1 1]\n",
            " [0 0 1 0 1]\n",
            " [0 1 1 1 1]\n",
            " [0 1 1 1 1]\n",
            " [0 0 1 1 0]\n",
            " [0 0 1 1 0]\n",
            " [0 1 1 1 1]]\n",
            "0.7219280948873623\n",
            "[0.7219280948873623, 0.4, 0.7219280948873623, 0.6041843979966417]\n",
            "[0.         0.32192809 0.         0.1177437 ]\n",
            "1\n",
            "\n",
            "fitting 0\n",
            "[[0 0 1 0 1]\n",
            " [0 0 1 0 1]\n",
            " [0 0 1 1 0]\n",
            " [0 0 1 1 0]]\n",
            "1.0\n",
            "[1.0, 1.0, 1.0, 0.0]\n",
            "[0. 0. 0. 1.]\n",
            "3\n",
            "\n",
            "fitting 0\n",
            "[[0 0 1 0 1]\n",
            " [0 0 1 0 1]]\n",
            "returning\n",
            "fitting 1\n",
            "[[0 0 1 1 0]\n",
            " [0 0 1 1 0]]\n",
            "returning\n",
            "fitting 1\n",
            "[[0 1 1 1 1]\n",
            " [0 1 1 0 1]\n",
            " [0 1 1 1 1]\n",
            " [0 1 1 1 1]\n",
            " [0 1 1 1 1]\n",
            " [0 1 1 1 1]]\n",
            "returning\n",
            "fitting 1\n",
            "[[1 1 0 1 1]\n",
            " [1 0 0 0 1]\n",
            " [1 1 1 1 1]\n",
            " [1 1 0 0 0]\n",
            " [1 1 1 1 1]\n",
            " [1 1 1 1 1]\n",
            " [1 1 1 1 1]\n",
            " [1 1 1 1 1]\n",
            " [1 1 0 0 0]]\n",
            "0.7642045065086203\n",
            "[0.7642045065086203, 0.7211361106303402, 0.4444444444444444, 0.3060986113514965]\n",
            "[0.         0.0430684  0.31976006 0.4581059 ]\n",
            "3\n",
            "\n",
            "fitting 0\n",
            "[[1 0 0 0 1]\n",
            " [1 1 0 0 0]\n",
            " [1 1 0 0 0]]\n",
            "0.9182958340544896\n",
            "[0.9182958340544896, 0.0, 0.9182958340544896, 0.9182958340544896]\n",
            "[0.         0.91829583 0.         0.        ]\n",
            "1\n",
            "\n",
            "fitting 0\n",
            "[[1 0 0 0 1]]\n",
            "returning\n",
            "fitting 1\n",
            "[[1 1 0 0 0]\n",
            " [1 1 0 0 0]]\n",
            "returning\n",
            "fitting 1\n",
            "[[1 1 0 1 1]\n",
            " [1 1 1 1 1]\n",
            " [1 1 1 1 1]\n",
            " [1 1 1 1 1]\n",
            " [1 1 1 1 1]\n",
            " [1 1 1 1 1]]\n",
            "returning\n"
          ],
          "name": "stdout"
        },
        {
          "output_type": "stream",
          "text": [
            "/usr/local/lib/python3.6/dist-packages/ipykernel_launcher.py:2: RuntimeWarning: invalid value encountered in long_scalars\n",
            "  \n",
            "/usr/local/lib/python3.6/dist-packages/ipykernel_launcher.py:3: RuntimeWarning: invalid value encountered in long_scalars\n",
            "  This is separate from the ipykernel package so we can avoid doing imports until\n",
            "/usr/local/lib/python3.6/dist-packages/ipykernel_launcher.py:4: RuntimeWarning: divide by zero encountered in log2\n",
            "  after removing the cwd from sys.path.\n",
            "/usr/local/lib/python3.6/dist-packages/ipykernel_launcher.py:4: RuntimeWarning: invalid value encountered in double_scalars\n",
            "  after removing the cwd from sys.path.\n"
          ],
          "name": "stderr"
        }
      ]
    },
    {
      "cell_type": "code",
      "metadata": {
        "id": "dy0JnqCStZ6F"
      },
      "source": [
        "IG = [0.02244831, 0.03082069, 0.00061424, 0.02966723]"
      ],
      "execution_count": null,
      "outputs": []
    },
    {
      "cell_type": "code",
      "metadata": {
        "id": "Ji0Wfmh00ck8",
        "outputId": "55ac520a-245d-4fdf-cd7a-bc796a325b2f",
        "colab": {
          "base_uri": "https://localhost:8080/",
          "height": 34
        }
      },
      "source": [
        "np.argmax(IG)"
      ],
      "execution_count": null,
      "outputs": [
        {
          "output_type": "execute_result",
          "data": {
            "text/plain": [
              "1"
            ]
          },
          "metadata": {
            "tags": []
          },
          "execution_count": 140
        }
      ]
    },
    {
      "cell_type": "code",
      "metadata": {
        "id": "6FLjTeoL0gkg",
        "outputId": "f8eb4eab-782f-4389-d9be-355d30a367b0",
        "colab": {
          "base_uri": "https://localhost:8080/"
        }
      },
      "source": [
        "!pip install pptree"
      ],
      "execution_count": null,
      "outputs": [
        {
          "output_type": "stream",
          "text": [
            "Collecting pptree\n",
            "  Downloading https://files.pythonhosted.org/packages/01/cd/f4f2b79d20a10563d071c38b6ad14bf9c5d75a0edef877d2bed60c024247/pptree-3.1.tar.gz\n",
            "Building wheels for collected packages: pptree\n",
            "  Building wheel for pptree (setup.py) ... \u001b[?25l\u001b[?25hdone\n",
            "  Created wheel for pptree: filename=pptree-3.1-cp36-none-any.whl size=4632 sha256=2ae25809d1fd5378ab123bd5e0801c350af937dcc6cc8453d9df8d1a775f1aa9\n",
            "  Stored in directory: /root/.cache/pip/wheels/ff/bf/ee/8b67eb5467e12cf1bd0125df70d8c9f076bd7ea225b5bcea9b\n",
            "Successfully built pptree\n",
            "Installing collected packages: pptree\n",
            "Successfully installed pptree-3.1\n"
          ],
          "name": "stdout"
        }
      ]
    },
    {
      "cell_type": "code",
      "metadata": {
        "id": "bXu5K3QSg8DG"
      },
      "source": [
        "from ppbtree import print_tree"
      ],
      "execution_count": null,
      "outputs": []
    },
    {
      "cell_type": "code",
      "metadata": {
        "id": "epmufA7nhBSf",
        "outputId": "f4b705c9-6b5a-452d-aa80-4b6c39d5f734",
        "colab": {
          "base_uri": "https://localhost:8080/"
        }
      },
      "source": [
        "print_tree(node, nameattr=\"data\")"
      ],
      "execution_count": null,
      "outputs": [
        {
          "output_type": "stream",
          "text": [
            "      ┌Y=1\n",
            "    ┌1┤\n",
            "    | └Y=0\n",
            "  ┌2┤\n",
            "  | |   ┌Y=1\n",
            "  | | ┌3┤\n",
            "  | | | └Y=0\n",
            "  | └1┤\n",
            "  |   └Y=1\n",
            " 0┤\n",
            "  |   ┌Y=1\n",
            "  | ┌1┤\n",
            "  | | | ┌Y=0\n",
            "  | | └3┤\n",
            "  | |   └Y=1\n",
            "  └2┤\n",
            "    └Y=1\n"
          ],
          "name": "stdout"
        }
      ]
    },
    {
      "cell_type": "code",
      "metadata": {
        "id": "OoPgdkVrhKdB"
      },
      "source": [
        ""
      ],
      "execution_count": null,
      "outputs": []
    }
  ]
}