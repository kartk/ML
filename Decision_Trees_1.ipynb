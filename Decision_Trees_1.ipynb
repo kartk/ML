{
  "nbformat": 4,
  "nbformat_minor": 0,
  "metadata": {
    "colab": {
      "name": "Decision Trees - 1",
      "provenance": [],
      "collapsed_sections": [],
      "authorship_tag": "ABX9TyNISJ261lRD8b5x0vT61Kwg",
      "include_colab_link": true
    },
    "kernelspec": {
      "name": "python3",
      "display_name": "Python 3"
    }
  },
  "cells": [
    {
      "cell_type": "markdown",
      "metadata": {
        "id": "view-in-github",
        "colab_type": "text"
      },
      "source": [
        "<a href=\"https://colab.research.google.com/github/kartk/ML/blob/main/Decision_Trees_1.ipynb\" target=\"_parent\"><img src=\"https://colab.research.google.com/assets/colab-badge.svg\" alt=\"Open In Colab\"/></a>"
      ]
    },
    {
      "cell_type": "code",
      "metadata": {
        "id": "6gHO9u0XoUy7",
        "outputId": "a38b3289-a81f-4302-aa3b-3bd230f1e758",
        "colab": {
          "base_uri": "https://localhost:8080/",
          "height": 173
        }
      },
      "source": [
        "!pip install pptree"
      ],
      "execution_count": 1,
      "outputs": [
        {
          "output_type": "stream",
          "text": [
            "Collecting pptree\n",
            "  Downloading https://files.pythonhosted.org/packages/01/cd/f4f2b79d20a10563d071c38b6ad14bf9c5d75a0edef877d2bed60c024247/pptree-3.1.tar.gz\n",
            "Building wheels for collected packages: pptree\n",
            "  Building wheel for pptree (setup.py) ... \u001b[?25l\u001b[?25hdone\n",
            "  Created wheel for pptree: filename=pptree-3.1-cp36-none-any.whl size=4632 sha256=5209ca0eb13dc681afa984a3fa7ea6e5cc7fbd82e4a4a1fa0a4864bf5671e560\n",
            "  Stored in directory: /root/.cache/pip/wheels/ff/bf/ee/8b67eb5467e12cf1bd0125df70d8c9f076bd7ea225b5bcea9b\n",
            "Successfully built pptree\n",
            "Installing collected packages: pptree\n",
            "Successfully installed pptree-3.1\n"
          ],
          "name": "stdout"
        }
      ]
    },
    {
      "cell_type": "code",
      "metadata": {
        "id": "xgnHL-ZnFLaw"
      },
      "source": [
        "import numpy as np\n",
        "from typing import List, Tuple\n",
        "from ppbtree import print_tree\n",
        "import matplotlib.pyplot as plt\n",
        "from collections import Counter \n",
        "import warnings\n",
        "warnings.filterwarnings('ignore')"
      ],
      "execution_count": 21,
      "outputs": []
    },
    {
      "cell_type": "code",
      "metadata": {
        "id": "yWIbg0WAHIYL"
      },
      "source": [
        "class Node:\n",
        "  def __init__(self, data):\n",
        "    self.left = None\n",
        "    self.right = None\n",
        "    self.data = data\n",
        "  def pretty_print(self):\n",
        "      print_tree(self,nameattr=\"data\")\n",
        "\n",
        "\n",
        "class DecisionTree:\n",
        "  # def __init__(self, k:int, m:int )-> None:\n",
        "  #   self.data = DecisionTree.datagenerator(k,m)\n",
        "  #   self.tree = None\n",
        "  #   self.k = k\n",
        "  #   self.m = m\n",
        "  \n",
        "  def __init__(self,data:np.array = None,k:int=None, m:int=None, d:int = None, s:int = None )-> None:\n",
        "    assert ((data is None) and ( m is not None)) or ((data is not None) and ( m is None)), \"Both m(size) and data can't be empty\" \n",
        "    assert ((d is None) and (s is not None)) or ((d is not None) and (s is None)) or ((d is None) and (s is None)), \"Give either d(depth size) or s(sample size), not both!\"\n",
        "    self.k = data.shape[1] if data is not None else k\n",
        "    self.m = data.shape[0] if data is not None else m\n",
        "    self.data = data if data is not None else DecisionTree.datagenerator2(m) if k is None else DecisionTree.datagenerator(k, m)    \n",
        "    self.d = d\n",
        "    self.s = s\n",
        "    self.tree = None\n",
        "    self.nodes = Counter()\n",
        "  \n",
        "  @classmethod\n",
        "  def datagenerator(self, k:int, m:int)->List[List[int]]:\n",
        "    \"\"\"\n",
        "    Input:\n",
        "      k: number of features\n",
        "      m: number of data points\n",
        "    Returns:\n",
        "      Numpy array of size (m,k)\n",
        "    \"\"\"\n",
        "    # data = []\n",
        "    w_den = sum([np.power(0.9, i) for i in range(2, k+1)])\n",
        "    # for i in range(m):\n",
        "    #   X = [np.random.choice([1,0], p=[0.5, 0.5])]\n",
        "    #   for j in range(1,k):\n",
        "    #     X.append(np.random.choice([X[j-1], 1-X[j-1]], p = [0.75, 0.25]))\n",
        "    #   X.append(X[0] if (sum([ np.power(0.9, j)/w_den * X_j for j, X_j in enumerate(X[1:])]) >= 0.5) else (1 - X[0]))\n",
        "    #   data.append(X)\n",
        "    # return np.array(data)\n",
        "\n",
        "    data = [[0 for _ in range(k+1)] for _ in range(m)]\n",
        "    for i in range(m):\n",
        "      for j in range(k):\n",
        "        if j == 0 :\n",
        "          data[i][j] = 0 if np.random.random() <= 0.5 else 1\n",
        "        if (j >= 1):\n",
        "          data[i][j] = data[i][j-1] if np.random.random() > 0.25 else 1-data[i][j-1]\n",
        "        # if (j >= 15) and (j<21):\n",
        "        #   data[i][j] = 0 if np.random.random() <= 0.5 else 1\n",
        "      data[i][k] = data[i][0] if (sum([ np.power(0.9, j+2)/w_den * X_j for j, X_j in enumerate(data[i][1:])]) >= 0.5) else (1 - data[i][0])\n",
        "    return np.array(data)\n",
        "\n",
        "  @classmethod\n",
        "  def datagenerator2(self, m:int)->np.array:\n",
        "    \"\"\"\n",
        "    Input:\n",
        "      m: number of data points\n",
        "    Returns:\n",
        "      Numpy array of size (m,k)\n",
        "    \"\"\"\n",
        "    # data = []\n",
        "    # for i in range(m):\n",
        "    #   row = [np.random.choice([1,0], p=[0.5, 0.5])]\n",
        "    #   for j in range(1,15):\n",
        "    #     row.append(np.random.choice([row[j-1], 1-row[j-1]], p = [0.75, 0.25]))\n",
        "    #   for j in range(15,21):\n",
        "    #     row.append(np.random.choice([1,0], p=[0.5, 0.5]))\n",
        "      \n",
        "    #   row.append(np.bincount(row[8:15]).argmax() if row[0] else np.bincount(row[1:8]).argmax())\n",
        "    #   data.append(row)\n",
        "    # return np.array(data)\n",
        "\n",
        "    data = [[0 for _ in range(22)] for _ in range(m)]\n",
        "    for i in range(m):\n",
        "      for j in range(21):\n",
        "        if j == 0 :\n",
        "          data[i][j] = 0 if np.random.random() <= 0.5 else 1\n",
        "        if (j >= 1) and (j<=14):\n",
        "          data[i][j] = data[i][j-1] if np.random.random() > 0.25 else 1-data[i][j-1]\n",
        "        if (j >= 15) and (j<21):\n",
        "          data[i][j] = 0 if np.random.random() <= 0.5 else 1\n",
        "      data[i][21] = np.bincount(data[i][8:15]).argmax() if data[i][0] else np.bincount(data[i][1:8]).argmax()\n",
        "    return np.array(data)\n",
        "\n",
        "\n",
        "  def regenerate_data(self, k=None, m=None)->None:\n",
        "    self.data = DecisionTree.datagenerator(k if k else self.k , m if m else self.m) \\\n",
        "    if k is not None else DecisionTree.datagenerator2(m if m is not None else self.m)\n",
        "\n",
        "  def entropy(self, vector:np.array)->np.array:\n",
        "    P_0 = (vector == 0).sum(0) / len(vector)\n",
        "    P_1 = (vector == 1).sum(0) / len(vector)\n",
        "    H_Y = - P_0 * np.log2(P_0) - P_1 * np.log2(P_1)\n",
        "    return H_Y\n",
        "\n",
        "  def entropy_fit(self, data, depth=None):\n",
        "    X, Y = data[:,:-1], data[:,-1]\n",
        "    if (\n",
        "        (Y == 0).sum(0) == len(Y) or (Y == 1).sum(0) == len(Y) or \n",
        "        (depth and self. d is not None and (depth > self.d)) or \n",
        "        (self.s is not None and (len(Y) <= self.s))\n",
        "      ):\n",
        "      # Exit Condition for pruning by sample\n",
        "      if self.s and (len(Y) <= self.s):\n",
        "        b= np.bincount(data[:,-1])\n",
        "        max_values = [i for i, x in enumerate(b) if x == max(b)]\n",
        "        if len(max_values) == 1:\n",
        "          return Node(f\"Y={max_values[0]}\")\n",
        "        else :\n",
        "          if np.random.random()>0.5:\n",
        "            return Node(f\"Y={max_values[1]}\")\n",
        "          return Node(f\"Y={max_values[0]}\")\n",
        "      # Exit Condition for pruning by depth\n",
        "      if depth and self. d and (depth > self.d):\n",
        "        return Node(f\"Y={np.bincount(data[:,-1]).argmax()}\")\n",
        "      # Exit condition when all Y values are same\n",
        "      return Node(\"Y=0\") if (Y == 0).sum(0) == len(Y) else Node(\"Y=1\")\n",
        "    # Calculating H(Y)\n",
        "    H_Y = self.entropy(Y)\n",
        "\n",
        "    # # Calculating H(Y|X)\n",
        "    cond_X_Y = []\n",
        "    for i in range(X.shape[1]):\n",
        "      P_X_0 = (X[:,i] == 0).sum(0) / len(X[:,i])\n",
        "      P_X_1 = (X[:,i] == 1).sum(0) / len(X[:,i])\n",
        "      H_Y_X_0 = max(0, self.entropy(Y[np.where(X[:,i]==0)]))\n",
        "      H_Y_X_1 = max(0, self.entropy(Y[np.where(X[:,i]==1)]))\n",
        "      cond_X_Y.append(P_X_0 * H_Y_X_0 + P_X_1 * H_Y_X_1)\n",
        "    IG = H_Y - cond_X_Y\n",
        "    max_IG = np.argmax(IG)\n",
        "    self.nodes[max_IG] += 1\n",
        "    node = Node(max_IG)\n",
        "    node.left = self.entropy_fit(data[np.where(data[:,max_IG] == 0)],\n",
        "                                 depth+1 if depth!=None else None)\n",
        "    node.right = self.entropy_fit(data[np.where(data[:,max_IG] == 1)], \n",
        "                                  depth+1 if depth!=None else None)\n",
        "    return node\n",
        "\n",
        "  # def fit(self, data):\n",
        "  #   X, Y = data[:,:-1], data[:,-1]\n",
        "  #   if ((Y == 0).sum(0) == len(Y) or (Y == 1).sum(0) == len(Y)):\n",
        "  #     return Node(\"Y=0\") if (Y == 0).sum(0) == len(Y) else Node(\"Y=1\")\n",
        "  #   # Calculating H(Y)\n",
        "  #   H_Y = self.entropy(Y)\n",
        "  #   # # Calculating H(Y|X)\n",
        "  #   cond_X_Y = []\n",
        "  #   for i in range(X.shape[1]):\n",
        "  #     P_X_0 = (X[:,i] == 0).sum(0) / len(X[:,i])\n",
        "  #     P_X_1 = (X[:,i] == 1).sum(0) / len(X[:,i])\n",
        "  #     H_Y_X_0 = max(0, self.entropy(Y[np.where(X[:,i]==0)]))\n",
        "  #     H_Y_X_1 = max(0, self.entropy(Y[np.where(X[:,i]==1)]))\n",
        "  #     cond_X_Y.append(P_X_0 * H_Y_X_0 + P_X_1 * H_Y_X_1)\n",
        "  #   IG = H_Y - cond_X_Y\n",
        "  #   max_IG = np.argmax(IG)\n",
        "  #   node = Node(max_IG)\n",
        "  #   node.left = self.fit(data[np.where(data[:,max_IG] == 0)])\n",
        "  #   node.right = self.fit(data[np.where(data[:,max_IG] == 1)])\n",
        "  #   return node\n",
        "  def train(self, method=\"entropy\"):\n",
        "    if method == \"entropy\":\n",
        "      self.tree=self.entropy_fit(self.data, 0)\n",
        "    elif method == \"gini\":\n",
        "      self.tree=self.gini_fit(self.data)\n",
        "  \n",
        "  def get_y(self, vector, node):\n",
        "    if type(node.data) == str :\n",
        "      return int(node.data[-1])\n",
        "    if vector[node.data] == 0:\n",
        "      return self.get_y(vector, node.left)\n",
        "    else:\n",
        "      return self.get_y(vector, node.right)\n",
        "\n",
        "\n",
        "  def predict(self, data):\n",
        "    assert self.tree is not None, \"Model not trained yet!! Run train() before predict\"\n",
        "    correct_count = 0\n",
        "    y = []\n",
        "    for i in data:\n",
        "      y.append(self.get_y(i, self.tree))\n",
        "    return y\n",
        "  \n",
        "  def error(self, data=None):\n",
        "    d = data if data is not None else self.data\n",
        "    y_hat = self.predict(d[:,:-1])\n",
        "    y = d[:, -1]\n",
        "    return 1 - (y_hat == y).sum(0) / len(y)\n",
        "  \n",
        "  def estimate_distribution_error(self,m:int=None, N:int=100):\n",
        "    error = 0\n",
        "    for i in range(N):\n",
        "      self.regenerate_data(k=self.k, m=m)\n",
        "      error += self.error()\n",
        "    return error / N\n",
        "\n",
        "  def gini_fit(self, data):\n",
        "    if (((data[:,-1]==0).sum(0) == len(data[:,-1])) or ((data[:,-1]==1).sum(0) == len(data[:,-1])) ):\n",
        "      return Node(\"Y=0\") if (data[:,-1] == 0).sum(0) == len(data[:,-1]) else Node(\"Y=1\")\n",
        "    gini = []\n",
        "    for c in range(data.shape[1] - 1):\n",
        "      N = len(data[:,c])\n",
        "      c_0 = data[np.where(data[:,c] == 0)]\n",
        "      c_1 = data[np.where(data[:,c] == 1)]\n",
        "      G_c_0 = 1 - ((len(c_0[np.where(c_0[:,-1] == 0)])/c_0.shape[0]) ** 2 if c_0.size != 0 else 0) - ((len(c_0[np.where(c_0[:,-1] == 1)])/c_0.shape[0]) ** 2 if c_0.size != 0 else 0)\n",
        "      G_c_1 = 1 - ((len(c_1[np.where(c_1[:,-1] == 0)])/c_1.shape[0]) ** 2 if c_1.size != 0 else 0) - ((len(c_1[np.where(c_1[:,-1] == 1)])/c_1.shape[0]) ** 2 if c_1.size != 0 else 0)\n",
        "      gini.append(c_0.shape[0] / N * G_c_0 + c_1.shape[0] / N * G_c_1)\n",
        "    gini = np.array(gini)\n",
        "    split_var = gini.argmin()\n",
        "    node = Node(split_var)\n",
        "    node.left = self.gini_fit(data[np.where(data[:,split_var] == 0)])\n",
        "    node.right = self.gini_fit(data[np.where(data[:,split_var] == 1)])\n",
        "    return node\n",
        "\n"
      ],
      "execution_count": 140,
      "outputs": []
    },
    {
      "cell_type": "markdown",
      "metadata": {
        "id": "ut2WBy1Jb6_b"
      },
      "source": [
        "******"
      ]
    },
    {
      "cell_type": "markdown",
      "metadata": {
        "id": "LphPgqpaaPnT"
      },
      "source": [
        "1) For a given value of k, m, (number of features, number of data points), write a function to generate a training\n",
        "data set based on the above scheme."
      ]
    },
    {
      "cell_type": "markdown",
      "metadata": {
        "id": "Kn53IR3NbQor"
      },
      "source": [
        "Answer:\n",
        "\n",
        "The class method DecisionTree.datagenerator generates data based on the current scheme\n",
        "\n",
        "\n",
        "\n",
        "```\n",
        "DecisionTree.datagenerator(k, m)\n",
        "```\n",
        "k : Feature Size\n",
        "\n",
        "m : Data size\n",
        "\n"
      ]
    },
    {
      "cell_type": "code",
      "metadata": {
        "id": "L5xCmCVGcVMO"
      },
      "source": [
        "data = DecisionTree.datagenerator(k=4, m=30)"
      ],
      "execution_count": 129,
      "outputs": []
    },
    {
      "cell_type": "code",
      "metadata": {
        "id": "wKlMMSOucbKV",
        "outputId": "476c1cb7-d697-4b7d-e140-883bdf729c8b",
        "colab": {
          "base_uri": "https://localhost:8080/",
          "height": 538
        }
      },
      "source": [
        "data"
      ],
      "execution_count": 130,
      "outputs": [
        {
          "output_type": "execute_result",
          "data": {
            "text/plain": [
              "array([[0, 0, 1, 1, 0],\n",
              "       [0, 0, 1, 1, 0],\n",
              "       [1, 1, 1, 1, 1],\n",
              "       [0, 0, 0, 1, 1],\n",
              "       [0, 1, 1, 1, 0],\n",
              "       [0, 0, 0, 0, 1],\n",
              "       [1, 1, 1, 1, 1],\n",
              "       [0, 0, 0, 0, 1],\n",
              "       [1, 1, 1, 1, 1],\n",
              "       [1, 1, 1, 1, 1],\n",
              "       [0, 1, 0, 0, 1],\n",
              "       [1, 0, 0, 0, 0],\n",
              "       [1, 0, 0, 0, 0],\n",
              "       [0, 0, 0, 1, 1],\n",
              "       [1, 0, 1, 1, 1],\n",
              "       [1, 1, 1, 1, 1],\n",
              "       [1, 1, 0, 0, 0],\n",
              "       [1, 0, 1, 0, 0],\n",
              "       [1, 1, 0, 0, 0],\n",
              "       [0, 0, 0, 0, 1],\n",
              "       [1, 1, 1, 1, 1],\n",
              "       [1, 1, 1, 1, 1],\n",
              "       [1, 1, 1, 1, 1],\n",
              "       [0, 0, 0, 0, 1],\n",
              "       [1, 1, 0, 0, 0],\n",
              "       [1, 0, 0, 1, 0],\n",
              "       [1, 1, 0, 0, 0],\n",
              "       [0, 0, 0, 0, 1],\n",
              "       [0, 1, 1, 0, 0],\n",
              "       [0, 0, 0, 1, 1]])"
            ]
          },
          "metadata": {
            "tags": []
          },
          "execution_count": 130
        }
      ]
    },
    {
      "cell_type": "markdown",
      "metadata": {
        "id": "x05WrnHkfzfR"
      },
      "source": [
        "Data can also be generated using the DecisionTree's contructor\n",
        "\n",
        "\n",
        "```\n",
        "DecisionTree(k,m)\n",
        "```\n",
        "k : Feature Size\n",
        "\n",
        "m : Data size\n",
        "\n",
        "\n"
      ]
    },
    {
      "cell_type": "markdown",
      "metadata": {
        "id": "f2e0jSWQaWk0"
      },
      "source": [
        "-----"
      ]
    },
    {
      "cell_type": "markdown",
      "metadata": {
        "id": "8tErudfKaRgZ"
      },
      "source": [
        "2) Given a data set, write a function to fit a decision tree to that data based on splitting the variables by\n",
        "maximizing the information gain (ID3). Additionally, return the training error of this tree on the data set,\n",
        "err train ( f ˆ ) (Hint: this should be easy - why? ). It may be useful to have a function that takes a data set and a\n",
        "variable, and returns the data set partitioned based on the values of that variable."
      ]
    },
    {
      "cell_type": "markdown",
      "metadata": {
        "id": "o001AfSXb_A5"
      },
      "source": [
        "Answer:\n",
        "\n",
        "The function to fit a decision tree to the given data is DecisionTree's train method. The trained decision tree is available as instance variable tree\n",
        "\n",
        "\n",
        "```\n",
        "train()\n",
        "```"
      ]
    },
    {
      "cell_type": "markdown",
      "metadata": {
        "id": "1CvlIniYb_Sh"
      },
      "source": [
        "Once trained, we can predict for other data using the DecisonTree's predict function\n",
        "\n",
        "```\n",
        "predict(data)\n",
        "```\n",
        "data: Data on which we need to predict. If None, we predict on the training data\n"
      ]
    },
    {
      "cell_type": "markdown",
      "metadata": {
        "id": "zwTejo3Ub_KG"
      },
      "source": [
        "DecisionTree also has a method to get the error. We first predict and then calculate the misclassification error\n",
        "\n",
        "\n",
        "```\n",
        "error(data)\n",
        "```\n",
        "data: Data for which we need calculate misclassification error. If None, then we get the training data error\n",
        "\n"
      ]
    },
    {
      "cell_type": "markdown",
      "metadata": {
        "id": "ZvBUDMZub-2Z"
      },
      "source": [
        "Answer to why Training error is easy to calculating training error is easy:\n",
        "\n",
        "The decision tree is such that for any given data from the input training set, it gives the correct output, so the error will always be 0 for the training dataset"
      ]
    },
    {
      "cell_type": "markdown",
      "metadata": {
        "id": "NgVZzzQbb-Qn"
      },
      "source": [
        "***"
      ]
    },
    {
      "cell_type": "markdown",
      "metadata": {
        "id": "vV8zOTo5b-Hf"
      },
      "source": [
        "3) For k = 4 and m = 30, generate data and fit a decision tree to it. Does the ordering of the variables in the\n",
        "decision tree make sense, based on the function that defines Y ? Why or why not? Draw the tree."
      ]
    },
    {
      "cell_type": "markdown",
      "metadata": {
        "id": "e00xt5K9j179"
      },
      "source": [
        "a)"
      ]
    },
    {
      "cell_type": "code",
      "metadata": {
        "id": "nJgU4JRIc0Ve"
      },
      "source": [
        "dt = DecisionTree( k=4, m=30)"
      ],
      "execution_count": 131,
      "outputs": []
    },
    {
      "cell_type": "code",
      "metadata": {
        "id": "zhEgp90sYDNA",
        "outputId": "ae5f8320-a33e-42dc-bffd-2f0668cfff1e",
        "colab": {
          "base_uri": "https://localhost:8080/",
          "height": 538
        }
      },
      "source": [
        "dt.data"
      ],
      "execution_count": 132,
      "outputs": [
        {
          "output_type": "execute_result",
          "data": {
            "text/plain": [
              "array([[1, 1, 1, 1, 1],\n",
              "       [1, 0, 0, 0, 0],\n",
              "       [0, 0, 0, 0, 1],\n",
              "       [1, 1, 0, 0, 0],\n",
              "       [0, 0, 0, 0, 1],\n",
              "       [1, 1, 1, 1, 1],\n",
              "       [0, 1, 0, 0, 1],\n",
              "       [1, 1, 1, 1, 1],\n",
              "       [0, 0, 0, 0, 1],\n",
              "       [1, 1, 1, 1, 1],\n",
              "       [0, 0, 1, 1, 0],\n",
              "       [0, 1, 1, 1, 0],\n",
              "       [0, 0, 0, 1, 1],\n",
              "       [1, 1, 1, 1, 1],\n",
              "       [0, 0, 0, 0, 1],\n",
              "       [0, 0, 0, 0, 1],\n",
              "       [0, 0, 0, 0, 1],\n",
              "       [1, 0, 0, 1, 0],\n",
              "       [1, 1, 1, 1, 1],\n",
              "       [0, 0, 1, 0, 1],\n",
              "       [0, 1, 0, 1, 0],\n",
              "       [1, 0, 0, 1, 0],\n",
              "       [1, 1, 1, 1, 1],\n",
              "       [1, 1, 1, 1, 1],\n",
              "       [1, 1, 1, 1, 1],\n",
              "       [1, 1, 1, 1, 1],\n",
              "       [1, 0, 0, 0, 0],\n",
              "       [1, 1, 1, 1, 1],\n",
              "       [0, 0, 1, 1, 0],\n",
              "       [0, 1, 1, 1, 0]])"
            ]
          },
          "metadata": {
            "tags": []
          },
          "execution_count": 132
        }
      ]
    },
    {
      "cell_type": "code",
      "metadata": {
        "id": "qbryRHp9c-C0"
      },
      "source": [
        "dt.train()"
      ],
      "execution_count": 133,
      "outputs": []
    },
    {
      "cell_type": "code",
      "metadata": {
        "id": "KjLRFE2DoNyg",
        "outputId": "06b37516-d565-42e2-e9be-ec023e72a8ba",
        "colab": {
          "base_uri": "https://localhost:8080/",
          "height": 278
        }
      },
      "source": [
        "dt.tree.pretty_print()"
      ],
      "execution_count": 134,
      "outputs": [
        {
          "output_type": "stream",
          "text": [
            "      ┌Y=1\n",
            "    ┌2┤\n",
            "    | | ┌Y=1\n",
            "    | └3┤\n",
            "    |   └Y=0\n",
            "  ┌0┤\n",
            "  | └Y=0\n",
            " 1┤\n",
            "  |   ┌Y=1\n",
            "  | ┌3┤\n",
            "  | | └Y=0\n",
            "  └0┤\n",
            "    | ┌Y=0\n",
            "    └2┤\n",
            "      └Y=1\n"
          ],
          "name": "stdout"
        }
      ]
    },
    {
      "cell_type": "markdown",
      "metadata": {
        "id": "SGSmzw5zi1Lf"
      },
      "source": [
        "I've used an external library called [pptree](https://github.com/clemtoy/pptree) to draw the graph.\n",
        "\n",
        "Reading this graph is as below,\n",
        "\n",
        "1) For a branch that is on top, treat it as the corresponding split variable == 0\n",
        "\n",
        "2) For a branch that is on bottom, treat it as the corresponding split variable == 1"
      ]
    },
    {
      "cell_type": "markdown",
      "metadata": {
        "id": "vc4ok14Dj5K_"
      },
      "source": [
        "b)"
      ]
    },
    {
      "cell_type": "code",
      "metadata": {
        "id": "IcF9tHZui0rX"
      },
      "source": [
        "dt = DecisionTree(k=4,m=30)"
      ],
      "execution_count": 151,
      "outputs": []
    },
    {
      "cell_type": "code",
      "metadata": {
        "id": "i_jYjqV1ju2T",
        "outputId": "d6b3930b-ab96-431c-a2d3-f62fa16755cc",
        "colab": {
          "base_uri": "https://localhost:8080/",
          "height": 538
        }
      },
      "source": [
        "dt.data"
      ],
      "execution_count": 152,
      "outputs": [
        {
          "output_type": "execute_result",
          "data": {
            "text/plain": [
              "array([[1, 0, 0, 0, 0],\n",
              "       [1, 1, 1, 1, 1],\n",
              "       [1, 1, 1, 1, 1],\n",
              "       [0, 0, 1, 1, 0],\n",
              "       [1, 1, 1, 1, 1],\n",
              "       [0, 0, 1, 1, 0],\n",
              "       [1, 1, 1, 1, 1],\n",
              "       [1, 1, 0, 0, 0],\n",
              "       [0, 0, 1, 1, 0],\n",
              "       [0, 0, 1, 1, 0],\n",
              "       [1, 1, 1, 1, 1],\n",
              "       [1, 1, 0, 0, 0],\n",
              "       [0, 0, 0, 1, 1],\n",
              "       [0, 1, 1, 1, 0],\n",
              "       [1, 0, 0, 0, 0],\n",
              "       [1, 0, 1, 1, 1],\n",
              "       [1, 1, 1, 0, 1],\n",
              "       [0, 0, 1, 1, 0],\n",
              "       [0, 0, 0, 0, 1],\n",
              "       [1, 1, 1, 0, 1],\n",
              "       [1, 1, 1, 0, 1],\n",
              "       [1, 1, 1, 1, 1],\n",
              "       [1, 1, 1, 1, 1],\n",
              "       [0, 0, 1, 1, 0],\n",
              "       [1, 1, 1, 1, 1],\n",
              "       [1, 0, 0, 0, 0],\n",
              "       [0, 1, 1, 1, 0],\n",
              "       [1, 1, 0, 0, 0],\n",
              "       [0, 1, 1, 0, 0],\n",
              "       [1, 0, 0, 0, 0]])"
            ]
          },
          "metadata": {
            "tags": []
          },
          "execution_count": 152
        }
      ]
    },
    {
      "cell_type": "code",
      "metadata": {
        "id": "gdnmBNodjuqr"
      },
      "source": [
        "dt.train()"
      ],
      "execution_count": 153,
      "outputs": []
    },
    {
      "cell_type": "code",
      "metadata": {
        "id": "nbTqlCHMjuhR",
        "outputId": "1a79ccc0-a84e-4f45-ed1c-aa8e00cdb16f",
        "colab": {
          "base_uri": "https://localhost:8080/",
          "height": 139
        }
      },
      "source": [
        "dt.tree.pretty_print()"
      ],
      "execution_count": 154,
      "outputs": [
        {
          "output_type": "stream",
          "text": [
            "    ┌Y=1\n",
            "  ┌2┤\n",
            "  | └Y=0\n",
            " 0┤\n",
            "  | ┌Y=0\n",
            "  └2┤\n",
            "    └Y=1\n"
          ],
          "name": "stdout"
        }
      ]
    },
    {
      "cell_type": "markdown",
      "metadata": {
        "id": "WNjQojGOrUF0"
      },
      "source": [
        "a) and b) shows two different trees for different data of same size. \n",
        "\n",
        "For me the tree makes sense as the Y value depends on the X[0] value and I expected it to be always part of all the paths in the tree and this is the behaviour I see in the multiple trials I've done "
      ]
    },
    {
      "cell_type": "markdown",
      "metadata": {
        "id": "N4N9bwkmrT69"
      },
      "source": [
        "****"
      ]
    },
    {
      "cell_type": "markdown",
      "metadata": {
        "id": "Ui9ri2_QrTwT"
      },
      "source": [
        "4) Write a function that takes a decision tree and estimates its typical error on the underlying distribution err( f ˆ );\n",
        "i.e., generate a lot of data according to the above scheme, and find the average error rate of this tree over that\n",
        "data."
      ]
    },
    {
      "cell_type": "markdown",
      "metadata": {
        "id": "o2GtTPw_rTgi"
      },
      "source": [
        "Answer: \n",
        "\n",
        "DecisionTree's estimate_distribution_error function finds the error on the underlying distribution\n",
        "\n",
        "`estimate_distribution_error(m, N):`\n",
        "\n",
        "m : size of the datatset\n",
        "\n",
        "N : No. of times to regenerate the data and calculate the error \n",
        "\n",
        "\n",
        "The above function "
      ]
    },
    {
      "cell_type": "code",
      "metadata": {
        "id": "YOtTLKadpExl",
        "outputId": "eceef691-acb8-49af-d2fa-ebec1b26f4ea",
        "colab": {
          "base_uri": "https://localhost:8080/",
          "height": 34
        }
      },
      "source": [
        "dt.estimate_distribution_error(N=1000)"
      ],
      "execution_count": 155,
      "outputs": [
        {
          "output_type": "execute_result",
          "data": {
            "text/plain": [
              "0.06226666666666708"
            ]
          },
          "metadata": {
            "tags": []
          },
          "execution_count": 155
        }
      ]
    },
    {
      "cell_type": "markdown",
      "metadata": {
        "id": "9pD5yndr_KE7"
      },
      "source": [
        "***"
      ]
    },
    {
      "cell_type": "markdown",
      "metadata": {
        "id": "axXbPBO5tyyg"
      },
      "source": [
        "5) For k = 10, estimate the value of |err train ( f ˆ ) − err( f ˆ )| for a given m by repeatedly generating data sets, fitting\n",
        "trees to those data sets, and estimating the true and training error. Do this for multiple m, and graph this\n",
        "difference as a function of m. What can you say about the marginal value of additional training data?"
      ]
    },
    {
      "cell_type": "markdown",
      "metadata": {
        "id": "yqm4jLpitygD"
      },
      "source": [
        "err_train(f_hat) is always 0 and I do not see any case where it wouldn't be, so |err_train(f_hat) - err(f_hat)| is just err(f_hat) which is same as the previous question."
      ]
    },
    {
      "cell_type": "markdown",
      "metadata": {
        "id": "u7shdV_6ueZg"
      },
      "source": [
        "For k=10 :\n"
      ]
    },
    {
      "cell_type": "code",
      "metadata": {
        "id": "heuMuo9wvLSm",
        "outputId": "2585299d-6ce7-4d91-8b09-6d641066e59b",
        "colab": {
          "base_uri": "https://localhost:8080/",
          "height": 34
        }
      },
      "source": [
        "error_distribution"
      ],
      "execution_count": 167,
      "outputs": [
        {
          "output_type": "execute_result",
          "data": {
            "text/plain": [
              "0.03411717171717174"
            ]
          },
          "metadata": {
            "tags": []
          },
          "execution_count": 167
        }
      ]
    },
    {
      "cell_type": "code",
      "metadata": {
        "id": "yZOhrFRQqP-T",
        "outputId": "ce07418d-62da-4198-96c1-5dedf9d27885",
        "colab": {
          "base_uri": "https://localhost:8080/",
          "height": 282
        }
      },
      "source": [
        "m_range = np.arange(10, 1000, 10)\n",
        "error_distribution = []\n",
        "for i in m_range:  \n",
        "  dt = DecisionTree(k=10, m= i)\n",
        "  dt.train()\n",
        "  error_distribution.append(dt.estimate_distribution_error(N=100))\n",
        "plt.plot(m_range, error_distribution)"
      ],
      "execution_count": 168,
      "outputs": [
        {
          "output_type": "execute_result",
          "data": {
            "text/plain": [
              "[<matplotlib.lines.Line2D at 0x7f841c753978>]"
            ]
          },
          "metadata": {
            "tags": []
          },
          "execution_count": 168
        },
        {
          "output_type": "display_data",
          "data": {
            "image/png": "[encoded data removed]",
            "text/plain": [
              "<Figure size 432x288 with 1 Axes>"
            ]
          },
          "metadata": {
            "tags": [],
            "needs_background": "light"
          }
        }
      ]
    },
    {
      "cell_type": "code",
      "metadata": {
        "id": "8IYcyyiubMd5",
        "outputId": "50131a14-234b-49af-f3a9-d13b6876ab08",
        "colab": {
          "base_uri": "https://localhost:8080/",
          "height": 34
        }
      },
      "source": [
        "dt.estimate_distribution_error(N=1000)"
      ],
      "execution_count": 164,
      "outputs": [
        {
          "output_type": "execute_result",
          "data": {
            "text/plain": [
              "0.04258571428571416"
            ]
          },
          "metadata": {
            "tags": []
          },
          "execution_count": 164
        }
      ]
    },
    {
      "cell_type": "markdown",
      "metadata": {
        "id": "-V8I-mWkyCUf"
      },
      "source": [
        "***"
      ]
    },
    {
      "cell_type": "markdown",
      "metadata": {
        "id": "8RDhyIVEn3uQ"
      },
      "source": [
        "6) Design an alternative metric for splitting the data, not based on information content / information gain. Repeat\n",
        "the computation from (5) above for your metric, and compare the performance of your trees vs the ID3 trees."
      ]
    },
    {
      "cell_type": "markdown",
      "metadata": {
        "id": "Hrz1g4hpt5JR"
      },
      "source": [
        "The alternative approach for splitting that is implemented is GINI index, which measures the degree or probability of a particular variable being wrongly classified when it is randomly chosen\n",
        "\n",
        "Gini for each column is given by:\n",
        "\n",
        "$ Gini = 1 - \\sum_{i=1}^{n} (p_i)^2 $\n",
        "\n",
        "$p_i$: probability of column values being 0 or 1 (In this case)\n",
        "\n",
        "\n",
        "Steps:\n",
        "\n",
        "1) Find Gini Index for all columns using the formula above \n",
        "\n",
        "2) Choose the column with smallest gini index as the splitting variable\n",
        "\n",
        "3) Repeat the above two steps untill stopping condition"
      ]
    },
    {
      "cell_type": "markdown",
      "metadata": {
        "id": "GqAMEeEiyvhl"
      },
      "source": [
        "The implementation is as below:\n",
        "\n",
        "\n",
        "\n",
        "```\n",
        "\n",
        "def gini_fit(self, data):\n",
        "    if (((data[:,-1]==0).sum(0) == len(data[:,-1])) or ((data[:,-1]==1).sum(0) == len(data[:,-1])) ):\n",
        "      return Node(\"Y=0\") if (data[:,-1] == 0).sum(0) == len(data[:,-1]) else Node(\"Y=1\")\n",
        "    gini = []\n",
        "    for c in range(data.shape[1] - 1):\n",
        "      N = len(data[:,c])\n",
        "      c_0 = data[np.where(data[:,c] == 0)]\n",
        "      c_1 = data[np.where(data[:,c] == 1)]\n",
        "      G_c_0 = 1 - ((len(c_0[np.where(c_0[:,-1] == 0)])/c_0.shape[0]) ** 2 if c_0.size != 0 else 0) - ((len(c_0[np.where(c_0[:,-1] == 1)])/c_0.shape[0]) ** 2 if c_0.size != 0 else 0)\n",
        "      G_c_1 = 1 - ((len(c_1[np.where(c_1[:,-1] == 0)])/c_1.shape[0]) ** 2 if c_1.size != 0 else 0) - ((len(c_1[np.where(c_1[:,-1] == 1)])/c_1.shape[0]) ** 2 if c_1.size != 0 else 0)\n",
        "      gini.append(c_0.shape[0] / N * G_c_0 + c_1.shape[0] / N * G_c_1)\n",
        "    gini = np.array(gini)\n",
        "    split_var = gini.argmin()\n",
        "    node = Node(split_var)\n",
        "    node.left = self.gini_fit(data[np.where(data[:,split_var] == 0)])\n",
        "    node.right = self.gini_fit(data[np.where(data[:,split_var] == 1)])\n",
        "    return node\n",
        "\n",
        "```\n",
        "\n"
      ]
    },
    {
      "cell_type": "markdown",
      "metadata": {
        "id": "FoI0kJH30C-y"
      },
      "source": [
        "To train, we need to call the train method as below:\n",
        "\n",
        "\n",
        "```\n",
        "df.train(\"gini\")\n",
        "```\n",
        "\n",
        "\n"
      ]
    },
    {
      "cell_type": "code",
      "metadata": {
        "id": "UmURbgFnLcml"
      },
      "source": [
        "dt = DecisionTree(k=4, m=30)\n",
        "dt.train(\"gini\")\n"
      ],
      "execution_count": 171,
      "outputs": []
    },
    {
      "cell_type": "code",
      "metadata": {
        "id": "GQsqbxuJIXDO",
        "outputId": "c561772d-9a44-4f68-8cc8-668b18a3bdcc",
        "colab": {
          "base_uri": "https://localhost:8080/",
          "height": 243
        }
      },
      "source": [
        "dt.tree.pretty_print()"
      ],
      "execution_count": 172,
      "outputs": [
        {
          "output_type": "stream",
          "text": [
            "    ┌Y=1\n",
            "  ┌0┤\n",
            "  | | ┌Y=0\n",
            "  | └1┤\n",
            "  |   | ┌Y=0\n",
            "  |   └2┤\n",
            "  |     └Y=1\n",
            " 3┤\n",
            "  |   ┌Y=1\n",
            "  | ┌2┤\n",
            "  | | └Y=0\n",
            "  └0┤\n",
            "    └Y=1\n"
          ],
          "name": "stdout"
        }
      ]
    },
    {
      "cell_type": "code",
      "metadata": {
        "id": "GGuBB-d8IQYW",
        "outputId": "136bd24e-f03c-4ab4-989b-9160c9df118a",
        "colab": {
          "base_uri": "https://localhost:8080/",
          "height": 284
        }
      },
      "source": [
        "m_range = np.arange(10, 1000, 10)\n",
        "error_distribution_gini = []\n",
        "for i in m_range:  \n",
        "  dt = DecisionTree(k=10, m= i)\n",
        "  dt.train(\"gini\")\n",
        "  error_distribution_gini.append(dt.estimate_distribution_error(N=100))\n",
        "plt.plot(m_range, error_distribution_gini)"
      ],
      "execution_count": 174,
      "outputs": [
        {
          "output_type": "execute_result",
          "data": {
            "text/plain": [
              "[<matplotlib.lines.Line2D at 0x7f841cc52860>]"
            ]
          },
          "metadata": {
            "tags": []
          },
          "execution_count": 174
        },
        {
          "output_type": "display_data",
          "data": {
            "image/png": "[encoded data removed]",
            "text/plain": [
              "<Figure size 432x288 with 1 Axes>"
            ]
          },
          "metadata": {
            "tags": [],
            "needs_background": "light"
          }
        }
      ]
    },
    {
      "cell_type": "markdown",
      "metadata": {
        "id": "himss_TZIlwo"
      },
      "source": [
        "Comparing both:"
      ]
    },
    {
      "cell_type": "code",
      "metadata": {
        "id": "R7-DhD3j2Hmn",
        "outputId": "56805173-0dc7-4432-b446-cc5ee7a3ef6e",
        "colab": {
          "base_uri": "https://localhost:8080/",
          "height": 295
        }
      },
      "source": [
        "plt.plot(m_range,error_distribution, label=\"IG/Entropy\")\n",
        "plt.plot(m_range,error_distribution_gini, label=\"Gini Index\")\n",
        "plt.legend()\n",
        "plt.xlabel(\"Size of the data\")\n",
        "plt.ylabel(\"Error\")\n",
        "plt.title(\"Error vs Size for different split strategies\")\n",
        "plt.show()"
      ],
      "execution_count": 176,
      "outputs": [
        {
          "output_type": "display_data",
          "data": {
            "image/png": "[encoded data removed]",
            "text/plain": [
              "<Figure size 432x288 with 1 Axes>"
            ]
          },
          "metadata": {
            "tags": [],
            "needs_background": "light"
          }
        }
      ]
    }
  ]
}