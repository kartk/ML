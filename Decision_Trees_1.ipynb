{
  "nbformat": 4,
  "nbformat_minor": 0,
  "metadata": {
    "colab": {
      "name": "Decision Trees - 1",
      "provenance": [],
      "collapsed_sections": [],
      "authorship_tag": "ABX9TyPIBZeXd18IR4/H2xgKSAme",
      "include_colab_link": true
    },
    "kernelspec": {
      "name": "python3",
      "display_name": "Python 3"
    }
  },
  "cells": [
    {
      "cell_type": "markdown",
      "metadata": {
        "id": "view-in-github",
        "colab_type": "text"
      },
      "source": [
        "<a href=\"https://colab.research.google.com/github/kartk/ML/blob/main/Decision_Trees_1.ipynb\" target=\"_parent\"><img src=\"https://colab.research.google.com/assets/colab-badge.svg\" alt=\"Open In Colab\"/></a>"
      ]
    },
    {
      "cell_type": "markdown",
      "metadata": {
        "id": "7eDOtqlDk-LG"
      },
      "source": [
        "# Part 1"
      ]
    },
    {
      "cell_type": "markdown",
      "metadata": {
        "id": "4G84bEPtlAnr"
      },
      "source": [
        "I've written the code as a part of class and explained the details below."
      ]
    },
    {
      "cell_type": "code",
      "metadata": {
        "id": "6gHO9u0XoUy7",
        "outputId": "4be6c1b3-6aa2-449e-e654-90d666fa451f",
        "colab": {
          "base_uri": "https://localhost:8080/",
          "height": 173
        }
      },
      "source": [
        "!pip install pptree"
      ],
      "execution_count": null,
      "outputs": [
        {
          "output_type": "stream",
          "text": [
            "Collecting pptree\n",
            "  Downloading https://files.pythonhosted.org/packages/01/cd/f4f2b79d20a10563d071c38b6ad14bf9c5d75a0edef877d2bed60c024247/pptree-3.1.tar.gz\n",
            "Building wheels for collected packages: pptree\n",
            "  Building wheel for pptree (setup.py) ... \u001b[?25l\u001b[?25hdone\n",
            "  Created wheel for pptree: filename=pptree-3.1-cp36-none-any.whl size=4632 sha256=05735ed945a892b3e519c682bc23d9335ae6bf93fb906a9da592e4bc74ffe241\n",
            "  Stored in directory: /root/.cache/pip/wheels/ff/bf/ee/8b67eb5467e12cf1bd0125df70d8c9f076bd7ea225b5bcea9b\n",
            "Successfully built pptree\n",
            "Installing collected packages: pptree\n",
            "Successfully installed pptree-3.1\n"
          ],
          "name": "stdout"
        }
      ]
    },
    {
      "cell_type": "code",
      "metadata": {
        "id": "xgnHL-ZnFLaw"
      },
      "source": [
        "import numpy as np\n",
        "from typing import List, Tuple\n",
        "from ppbtree import print_tree\n",
        "import matplotlib.pyplot as plt\n",
        "from collections import Counter \n",
        "import warnings\n",
        "warnings.filterwarnings('ignore')"
      ],
      "execution_count": null,
      "outputs": []
    },
    {
      "cell_type": "code",
      "metadata": {
        "id": "yWIbg0WAHIYL"
      },
      "source": [
        "class Node:\n",
        "  \"\"\"\n",
        "    @class Node: used to store the binary tree\n",
        "  \"\"\"\n",
        "  def __init__(self, data):\n",
        "    self.left = None\n",
        "    self.right = None\n",
        "    self.data = data\n",
        "  def pretty_print(self):\n",
        "      print_tree(self,nameattr=\"data\")\n",
        "\n",
        "\n",
        "class DecisionTree:\n",
        "  \"\"\"\n",
        "    @class DecisionTree: Logic for the decision tree implementation\n",
        "  \"\"\"\n",
        "  \n",
        "  def __init__(self,data:np.array = None,k:int=None, m:int=None, d:int = None, s:int = None )-> None:\n",
        "    \"\"\"\n",
        "      constructor:\n",
        "        Input:\n",
        "            data  : data to used for training and testing (Optional)\n",
        "            k     : Number of features the data should have (Optional)\n",
        "            m     : Size of the data  (Optional)\n",
        "            d     : Depth up to which to grow the tree (Optional)\n",
        "            s     : Sampling size (Optional)\n",
        "    \"\"\"\n",
        "\n",
        "\n",
        "    assert ((data is None) and ( m is not None)) or ((data is not None) and ( m is None)), \"Both m(size) and data can't be empty\" \n",
        "    assert ((d is None) and (s is not None)) or ((d is not None) and (s is None)) or ((d is None) and (s is None)), \"Give either d(depth size) or s(sample size), not both!\"\n",
        "    self.k = data.shape[1] if data is not None else k\n",
        "    self.m = data.shape[0] if data is not None else m\n",
        "    self.data = data if data is not None else DecisionTree.datagenerator2(m) if k is None else DecisionTree.datagenerator(k, m)    \n",
        "    self.d = d\n",
        "    self.s = s\n",
        "    self.tree = None\n",
        "    self.nodes = Counter()\n",
        "  \n",
        "  @classmethod\n",
        "  def datagenerator(self, k:int, m:int)->List[List[int]]:\n",
        "    \"\"\"\n",
        "    Generate data accoriding to the given specification (Q1)\n",
        "    Input:\n",
        "      k: number of features\n",
        "      m: number of data points\n",
        "    Returns:\n",
        "      Numpy array of size (m,k+1)\n",
        "    \"\"\"\n",
        "    w_den = sum([np.power(0.9, i) for i in range(2, k+1)])\n",
        "    data = [[0 for _ in range(k+1)] for _ in range(m)]\n",
        "    for i in range(m):\n",
        "      for j in range(k):\n",
        "        if j == 0 :\n",
        "          data[i][j] = 0 if np.random.random() <= 0.5 else 1\n",
        "        if (j >= 1):\n",
        "          data[i][j] = data[i][j-1] if np.random.random() > 0.25 else 1-data[i][j-1]\n",
        "      data[i][k] = data[i][0] if (sum([ np.power(0.9, j+2)/w_den * X_j for j, X_j in enumerate(data[i][1:])]) >= 0.5) else (1 - data[i][0])\n",
        "    return np.array(data)\n",
        "\n",
        "  @classmethod\n",
        "  def datagenerator2(self, m:int)->np.array:\n",
        "    \"\"\"\n",
        "    Generate data accoriding to the given specification (Q2)\n",
        "    Input:\n",
        "      m: number of data points\n",
        "    Returns:\n",
        "      Numpy array of size (m,k)\n",
        "    \"\"\"\n",
        "    data = [[0 for _ in range(22)] for _ in range(m)]\n",
        "    for i in range(m):\n",
        "      for j in range(21):\n",
        "        if j == 0 :\n",
        "          data[i][j] = 0 if np.random.random() <= 0.5 else 1\n",
        "        if (j >= 1) and (j<=14):\n",
        "          data[i][j] = data[i][j-1] if np.random.random() > 0.25 else 1-data[i][j-1]\n",
        "        if (j >= 15) and (j<21):\n",
        "          data[i][j] = 0 if np.random.random() <= 0.5 else 1\n",
        "      data[i][21] = np.bincount(data[i][8:15]).argmax() if data[i][0] else np.bincount(data[i][1:8]).argmax()\n",
        "    return np.array(data)\n",
        "\n",
        "\n",
        "  def regenerate_data(self, k=None, m=None)->None:\n",
        "    \"\"\"\n",
        "      Function to regenerate data either. We regenerate the data and store it back as a member variable\n",
        "    \"\"\"\n",
        "    self.data = DecisionTree.datagenerator(k if k else self.k , m if m else self.m) \\\n",
        "    if k is not None else DecisionTree.datagenerator2(m if m is not None else self.m)\n",
        "\n",
        "  def entropy(self, vector:np.array)->np.array:\n",
        "    \"\"\"\n",
        "      Function to calculate entropy H(Y)\n",
        "    \"\"\"\n",
        "    P_0 = (vector == 0).sum(0) / len(vector)\n",
        "    P_1 = (vector == 1).sum(0) / len(vector)\n",
        "    H_Y = - P_0 * np.log2(P_0) - P_1 * np.log2(P_1)\n",
        "    return H_Y\n",
        "\n",
        "  def entropy_fit(self, data:np.array, depth=None)->None:\n",
        "    \"\"\"\n",
        "      Function to fit decision tree using ID3, the fitted tree is stored as Node in member variable tree\n",
        "      Input:\n",
        "        data  : Data to fit the tree on\n",
        "        depth : Max depth to grow the tree\n",
        "    \"\"\"\n",
        "    X, Y = data[:,:-1], data[:,-1]\n",
        "    if (\n",
        "        (Y == 0).sum(0) == len(Y) or (Y == 1).sum(0) == len(Y) or \n",
        "        (depth and self. d is not None and (depth > self.d)) or \n",
        "        (self.s is not None and (len(Y) <= self.s))\n",
        "      ):\n",
        "      # Exit Condition for pruning by sample\n",
        "      if self.s and (len(Y) <= self.s):\n",
        "        b= np.bincount(data[:,-1])\n",
        "        max_values = [i for i, x in enumerate(b) if x == max(b)]\n",
        "        if len(max_values) == 1:\n",
        "          return Node(f\"Y={max_values[0]}\")\n",
        "        else :\n",
        "          if np.random.random()>0.5:\n",
        "            return Node(f\"Y={max_values[1]}\")\n",
        "          return Node(f\"Y={max_values[0]}\")\n",
        "      # Exit Condition for pruning by depth\n",
        "      if depth and self. d and (depth > self.d):\n",
        "        return Node(f\"Y={np.bincount(data[:,-1]).argmax()}\")\n",
        "      # Exit condition when all Y values are same\n",
        "      return Node(\"Y=0\") if (Y == 0).sum(0) == len(Y) else Node(\"Y=1\")\n",
        "    # Calculating H(Y)\n",
        "    H_Y = self.entropy(Y)\n",
        "\n",
        "    # # Calculating H(Y|X)\n",
        "    cond_X_Y = []\n",
        "    for i in range(X.shape[1]):\n",
        "      P_X_0 = (X[:,i] == 0).sum(0) / len(X[:,i])\n",
        "      P_X_1 = (X[:,i] == 1).sum(0) / len(X[:,i])\n",
        "      H_Y_X_0 = max(0, self.entropy(Y[np.where(X[:,i]==0)]))\n",
        "      H_Y_X_1 = max(0, self.entropy(Y[np.where(X[:,i]==1)]))\n",
        "      cond_X_Y.append(P_X_0 * H_Y_X_0 + P_X_1 * H_Y_X_1)\n",
        "\n",
        "    # Calculating IG\n",
        "    IG = H_Y - cond_X_Y\n",
        "\n",
        "    # Pick the index which has the maximum IG and split on the same\n",
        "    max_IG = np.argmax(IG)\n",
        "\n",
        "    # Build a node based on the picked node\n",
        "    self.nodes[max_IG] += 1\n",
        "    node = Node(max_IG)\n",
        "\n",
        "    # Left child would correspond to choosing data where X_maxig == 0\n",
        "    node.left = self.entropy_fit(data[np.where(data[:,max_IG] == 0)],\n",
        "                                 depth+1 if depth!=None else None)\n",
        "    # Left child would correspond to choosing data where X_maxig == 1\n",
        "    node.right = self.entropy_fit(data[np.where(data[:,max_IG] == 1)], \n",
        "                                  depth+1 if depth!=None else None)\n",
        "    return node\n",
        "\n",
        "  \n",
        "  def gini_fit(self, data:np.array) -> None:\n",
        "    \"\"\"\n",
        "      Function to fit decision tree using Gini index, the fitted tree is stored as Node in member variable tree\n",
        "      Input:\n",
        "        data  : Data to fit the tree on\n",
        "    \"\"\"\n",
        "\n",
        "    # Exit condition where all the Y values of data is same \n",
        "    if (((data[:,-1]==0).sum(0) == len(data[:,-1])) or ((data[:,-1]==1).sum(0) == len(data[:,-1])) ):\n",
        "      return Node(\"Y=0\") if (data[:,-1] == 0).sum(0) == len(data[:,-1]) else Node(\"Y=1\")\n",
        "    gini = []\n",
        "\n",
        "    # Calculate gini index for each column\n",
        "    for c in range(data.shape[1] - 1):\n",
        "      N = len(data[:,c])\n",
        "      c_0 = data[np.where(data[:,c] == 0)]\n",
        "      c_1 = data[np.where(data[:,c] == 1)]\n",
        "      G_c_0 = 1 - ((len(c_0[np.where(c_0[:,-1] == 0)])/c_0.shape[0]) ** 2 if c_0.size != 0 else 0) - \\\n",
        "      ((len(c_0[np.where(c_0[:,-1] == 1)])/c_0.shape[0]) ** 2 if c_0.size != 0 else 0)\n",
        "      G_c_1 = 1 - ((len(c_1[np.where(c_1[:,-1] == 0)])/c_1.shape[0]) ** 2 if c_1.size != 0 else 0) - \\\n",
        "      ((len(c_1[np.where(c_1[:,-1] == 1)])/c_1.shape[0]) ** 2 if c_1.size != 0 else 0)\n",
        "      gini.append(c_0.shape[0] / N * G_c_0 + c_1.shape[0] / N * G_c_1)\n",
        "    gini = np.array(gini)\n",
        "\n",
        "    # Pick the column which has the minimum gini as the splitting variable\n",
        "    split_var = gini.argmin()\n",
        "\n",
        "    # Build a node based on the picked node\n",
        "    node = Node(split_var)\n",
        "\n",
        "    # Left child would correspond to choosing data where X_maxig == 0\n",
        "    node.left = self.gini_fit(data[np.where(data[:,split_var] == 0)])\n",
        "    \n",
        "    # Left child would correspond to choosing data where X_maxig == 1\n",
        "    node.right = self.gini_fit(data[np.where(data[:,split_var] == 1)])\n",
        "    return node\n",
        "\n",
        "\n",
        "  def train(self, method:str=\"entropy\")->None:\n",
        "    \"\"\"\n",
        "      Single function to call the training code\n",
        "      Input:\n",
        "        method: \n",
        "    \"\"\"\n",
        "    assert (method == \"entropy\") or (method == \"gini\"), \"Invalid method argument, Please choose either entropy or gini\"\n",
        "    if method == \"entropy\":\n",
        "      self.tree=self.entropy_fit(self.data, 0)\n",
        "    elif method == \"gini\":\n",
        "      self.tree=self.gini_fit(self.data)\n",
        "  \n",
        "  def get_y(self, vector:np.array, node:Node) -> int:\n",
        "    \"\"\"\n",
        "      Function that recurses over the tree to get to the leaf\n",
        "    \"\"\"\n",
        "\n",
        "    if type(node.data) == str :\n",
        "      return int(node.data[-1])\n",
        "    if vector[node.data] == 0:\n",
        "      return self.get_y(vector, node.left)\n",
        "    else:\n",
        "      return self.get_y(vector, node.right)\n",
        "\n",
        "\n",
        "  def predict(self, data:np.array)->List:\n",
        "    \"\"\"\n",
        "      Function to predict on the given data\n",
        "      Input:\n",
        "        data: data on which to predict\n",
        "    \"\"\"\n",
        "\n",
        "    assert self.tree is not None, \"Model not trained yet!! Run train() before predict\"\n",
        "    correct_count = 0\n",
        "    y = []\n",
        "    for i in data:\n",
        "      y.append(self.get_y(i, self.tree))\n",
        "    return y\n",
        "  \n",
        "  def error(self, data:np.array=None) -> float:\n",
        "    \"\"\"\n",
        "      Find the error the trained tree on the given data\n",
        "      Input:\n",
        "        data: data on which to find the error\n",
        "    \"\"\"\n",
        "    d = data if data is not None else self.data\n",
        "    y_hat = self.predict(d[:,:-1])\n",
        "    y = d[:, -1]\n",
        "    return 1 - (y_hat == y).sum(0) / len(y)\n",
        "  \n",
        "  def estimate_distribution_error(self,m:int=None, N:int=100) -> float:\n",
        "    \"\"\"\n",
        "      Find the underlying distribution error. We do this by regenerating the data \n",
        "      N times and averaging the error from the regenerated data\n",
        "      Input:\n",
        "        m : size of the regenerated data\n",
        "        N : number of times we need to regenerate the data \n",
        "    \"\"\"\n",
        "    error = 0\n",
        "    for i in range(N):\n",
        "      self.regenerate_data(k=self.k, m=m)\n",
        "      error += self.error()\n",
        "    return error / N\n",
        "\n"
      ],
      "execution_count": null,
      "outputs": []
    },
    {
      "cell_type": "markdown",
      "metadata": {
        "id": "ut2WBy1Jb6_b"
      },
      "source": [
        "******"
      ]
    },
    {
      "cell_type": "markdown",
      "metadata": {
        "id": "LphPgqpaaPnT"
      },
      "source": [
        "1) For a given value of k, m, (number of features, number of data points), write a function to generate a training\n",
        "data set based on the above scheme."
      ]
    },
    {
      "cell_type": "markdown",
      "metadata": {
        "id": "Kn53IR3NbQor"
      },
      "source": [
        "Answer:\n",
        "\n",
        "The class method DecisionTree.datagenerator generates data based on the current scheme\n",
        "\n",
        "\n",
        "\n",
        "```\n",
        "@classmethod\n",
        "  def datagenerator(self, k:int, m:int)->List[List[int]]:\n",
        "    \"\"\"\n",
        "    Generate data accoriding to the given specification (Q1)\n",
        "    Input:\n",
        "      k: number of features\n",
        "      m: number of data points\n",
        "    Returns:\n",
        "      Numpy array of size (m,k+1)\n",
        "    \"\"\"\n",
        "    w_den = sum([np.power(0.9, i) for i in range(2, k+1)])\n",
        "    data = [[0 for _ in range(k+1)] for _ in range(m)]\n",
        "    for i in range(m):\n",
        "      for j in range(k):\n",
        "        if j == 0 :\n",
        "          data[i][j] = 0 if np.random.random() <= 0.5 else 1\n",
        "        if (j >= 1):\n",
        "          data[i][j] = data[i][j-1] if np.random.random() > 0.25 else 1-data[i][j-1]\n",
        "      data[i][k] = data[i][0] if (sum([ np.power(0.9, j+2)/w_den * X_j for j, X_j in enumerate(data[i][1:])]) >= 0.5) else (1 - data[i][0])\n",
        "    return np.array(data)\n",
        "```\n",
        "\n"
      ]
    },
    {
      "cell_type": "code",
      "metadata": {
        "id": "L5xCmCVGcVMO"
      },
      "source": [
        "data = DecisionTree.datagenerator(k=4, m=30)"
      ],
      "execution_count": null,
      "outputs": []
    },
    {
      "cell_type": "code",
      "metadata": {
        "id": "wKlMMSOucbKV",
        "outputId": "476c1cb7-d697-4b7d-e140-883bdf729c8b",
        "colab": {
          "base_uri": "https://localhost:8080/",
          "height": 538
        }
      },
      "source": [
        "data"
      ],
      "execution_count": null,
      "outputs": [
        {
          "output_type": "execute_result",
          "data": {
            "text/plain": [
              "array([[0, 0, 1, 1, 0],\n",
              "       [0, 0, 1, 1, 0],\n",
              "       [1, 1, 1, 1, 1],\n",
              "       [0, 0, 0, 1, 1],\n",
              "       [0, 1, 1, 1, 0],\n",
              "       [0, 0, 0, 0, 1],\n",
              "       [1, 1, 1, 1, 1],\n",
              "       [0, 0, 0, 0, 1],\n",
              "       [1, 1, 1, 1, 1],\n",
              "       [1, 1, 1, 1, 1],\n",
              "       [0, 1, 0, 0, 1],\n",
              "       [1, 0, 0, 0, 0],\n",
              "       [1, 0, 0, 0, 0],\n",
              "       [0, 0, 0, 1, 1],\n",
              "       [1, 0, 1, 1, 1],\n",
              "       [1, 1, 1, 1, 1],\n",
              "       [1, 1, 0, 0, 0],\n",
              "       [1, 0, 1, 0, 0],\n",
              "       [1, 1, 0, 0, 0],\n",
              "       [0, 0, 0, 0, 1],\n",
              "       [1, 1, 1, 1, 1],\n",
              "       [1, 1, 1, 1, 1],\n",
              "       [1, 1, 1, 1, 1],\n",
              "       [0, 0, 0, 0, 1],\n",
              "       [1, 1, 0, 0, 0],\n",
              "       [1, 0, 0, 1, 0],\n",
              "       [1, 1, 0, 0, 0],\n",
              "       [0, 0, 0, 0, 1],\n",
              "       [0, 1, 1, 0, 0],\n",
              "       [0, 0, 0, 1, 1]])"
            ]
          },
          "metadata": {
            "tags": []
          },
          "execution_count": 130
        }
      ]
    },
    {
      "cell_type": "markdown",
      "metadata": {
        "id": "x05WrnHkfzfR"
      },
      "source": [
        "Data can also be generated using the DecisionTree's contructor which internally calls the datagenerator function\n",
        "\n",
        "\n",
        "```\n",
        "DecisionTree(data,k, m)\n",
        "```\n",
        "\n",
        "data: data generated using datagenerator\n",
        "\n",
        "k : Feature Size\n",
        "\n",
        "m : Data size\n",
        "\n",
        "\n",
        "We can either initialize using the already generated data by using the *data* argument or generate again by using *k and m arguments*\n",
        "\n",
        "\n"
      ]
    },
    {
      "cell_type": "markdown",
      "metadata": {
        "id": "f2e0jSWQaWk0"
      },
      "source": [
        "-----"
      ]
    },
    {
      "cell_type": "markdown",
      "metadata": {
        "id": "8tErudfKaRgZ"
      },
      "source": [
        "2) Given a data set, write a function to fit a decision tree to that data based on splitting the variables by\n",
        "maximizing the information gain (ID3). Additionally, return the training error of this tree on the data set,\n",
        "err train ( f ˆ ) (Hint: this should be easy - why? ). It may be useful to have a function that takes a data set and a\n",
        "variable, and returns the data set partitioned based on the values of that variable."
      ]
    },
    {
      "cell_type": "markdown",
      "metadata": {
        "id": "o001AfSXb_A5"
      },
      "source": [
        "Answer:\n",
        "\n",
        "The function to fit a decision tree to the given data is DecisionTree's train method. The trained decision tree is available as instance variable tree\n",
        "\n",
        "\n",
        "```\n",
        "def train(self, method:str=\"entropy\")->None:\n",
        "    \"\"\"\n",
        "      Single function to call the training code\n",
        "      Input:\n",
        "        method: \n",
        "    \"\"\"\n",
        "    assert (method == \"entropy\") or (method == \"gini\"), \"Invalid method argument, Please choose either entropy or gini\"\n",
        "    if method == \"entropy\":\n",
        "      self.tree=self.entropy_fit(self.data, 0)\n",
        "    elif method == \"gini\":\n",
        "      self.tree=self.gini_fit(self.data)\n",
        "```\n",
        "\n",
        "Based on the argument, it calls either entropy_fit, which fits using the ID3 algorithm or gini_fit which fits using gini index"
      ]
    },
    {
      "cell_type": "markdown",
      "metadata": {
        "id": "1CvlIniYb_Sh"
      },
      "source": [
        "Once trained, we can predict for other data using the DecisonTree's predict function\n",
        "\n",
        "```\n",
        "def predict(self, data:np.array)->List:\n",
        "    \"\"\"\n",
        "      Function to predict on the given data\n",
        "      Input:\n",
        "        data: data on which to predict\n",
        "    \"\"\"\n",
        "\n",
        "    assert self.tree is not None, \"Model not trained yet!! Run train() before predict\"\n",
        "    correct_count = 0\n",
        "    y = []\n",
        "    for i in data:\n",
        "      y.append(self.get_y(i, self.tree))\n",
        "    return y\n",
        "```\n"
      ]
    },
    {
      "cell_type": "markdown",
      "metadata": {
        "id": "zwTejo3Ub_KG"
      },
      "source": [
        "DecisionTree also has a method to get the error. We first predict and then calculate the misclassification error\n",
        "\n",
        "\n",
        "```\n",
        "def error(self, data:np.array=None) -> float:\n",
        "    \"\"\"\n",
        "      Find the error the trained tree on the given data\n",
        "      Input:\n",
        "        data: data on which to find the error\n",
        "    \"\"\"\n",
        "    d = data if data is not None else self.data\n",
        "    y_hat = self.predict(d[:,:-1])\n",
        "    y = d[:, -1]\n",
        "    return 1 - (y_hat == y).sum(0) / len(y)\n",
        "```\n",
        "\n"
      ]
    },
    {
      "cell_type": "markdown",
      "metadata": {
        "id": "ZvBUDMZub-2Z"
      },
      "source": [
        "Answer to why Training error is easy to calculating training error is easy:\n",
        "\n",
        "The decision tree is such that for any given data from the input training set, it gives the correct output, so the error will always be 0 for the training dataset"
      ]
    },
    {
      "cell_type": "markdown",
      "metadata": {
        "id": "NgVZzzQbb-Qn"
      },
      "source": [
        "***"
      ]
    },
    {
      "cell_type": "markdown",
      "metadata": {
        "id": "vV8zOTo5b-Hf"
      },
      "source": [
        "3) For k = 4 and m = 30, generate data and fit a decision tree to it. Does the ordering of the variables in the\n",
        "decision tree make sense, based on the function that defines Y ? Why or why not? Draw the tree."
      ]
    },
    {
      "cell_type": "markdown",
      "metadata": {
        "id": "e00xt5K9j179"
      },
      "source": [
        "a)"
      ]
    },
    {
      "cell_type": "code",
      "metadata": {
        "id": "nJgU4JRIc0Ve"
      },
      "source": [
        "dt = DecisionTree( k=4, m=30)"
      ],
      "execution_count": null,
      "outputs": []
    },
    {
      "cell_type": "code",
      "metadata": {
        "id": "zhEgp90sYDNA",
        "outputId": "1eb1e6a2-e790-466a-aaad-0eeea74c2f7c",
        "colab": {
          "base_uri": "https://localhost:8080/",
          "height": 538
        }
      },
      "source": [
        "dt.data"
      ],
      "execution_count": null,
      "outputs": [
        {
          "output_type": "execute_result",
          "data": {
            "text/plain": [
              "array([[0, 0, 1, 1, 0],\n",
              "       [1, 1, 1, 1, 1],\n",
              "       [1, 1, 1, 0, 1],\n",
              "       [1, 0, 0, 0, 0],\n",
              "       [1, 0, 1, 0, 0],\n",
              "       [1, 1, 0, 0, 0],\n",
              "       [0, 0, 1, 0, 1],\n",
              "       [1, 1, 1, 0, 1],\n",
              "       [0, 0, 1, 1, 0],\n",
              "       [1, 1, 1, 1, 1],\n",
              "       [1, 0, 0, 0, 0],\n",
              "       [0, 1, 1, 1, 0],\n",
              "       [0, 0, 0, 0, 1],\n",
              "       [0, 1, 1, 0, 0],\n",
              "       [0, 1, 1, 1, 0],\n",
              "       [0, 0, 0, 1, 1],\n",
              "       [1, 1, 1, 0, 1],\n",
              "       [1, 1, 1, 0, 1],\n",
              "       [1, 1, 1, 0, 1],\n",
              "       [1, 0, 0, 1, 0],\n",
              "       [0, 0, 0, 1, 1],\n",
              "       [0, 0, 0, 1, 1],\n",
              "       [0, 0, 0, 0, 1],\n",
              "       [1, 0, 1, 1, 1],\n",
              "       [0, 0, 0, 0, 1],\n",
              "       [0, 0, 1, 1, 0],\n",
              "       [0, 1, 1, 0, 0],\n",
              "       [0, 1, 1, 1, 0],\n",
              "       [1, 0, 0, 1, 0],\n",
              "       [0, 0, 0, 0, 1]])"
            ]
          },
          "metadata": {
            "tags": []
          },
          "execution_count": 7
        }
      ]
    },
    {
      "cell_type": "code",
      "metadata": {
        "id": "qbryRHp9c-C0"
      },
      "source": [
        "dt.train()"
      ],
      "execution_count": null,
      "outputs": []
    },
    {
      "cell_type": "code",
      "metadata": {
        "id": "KjLRFE2DoNyg",
        "outputId": "73eadd05-68a0-44bf-8371-d366e462eaf1",
        "colab": {
          "base_uri": "https://localhost:8080/",
          "height": 312
        }
      },
      "source": [
        "dt.tree.pretty_print()"
      ],
      "execution_count": null,
      "outputs": [
        {
          "output_type": "stream",
          "text": [
            "      ┌Y=1\n",
            "    ┌1┤\n",
            "    | └Y=0\n",
            "  ┌0┤\n",
            "  | | ┌Y=0\n",
            "  | └1┤\n",
            "  |   | ┌Y=0\n",
            "  |   └2┤\n",
            "  |     └Y=1\n",
            " 3┤\n",
            "  |   ┌Y=1\n",
            "  | ┌2┤\n",
            "  | | └Y=0\n",
            "  └0┤\n",
            "    | ┌Y=0\n",
            "    └2┤\n",
            "      └Y=1\n"
          ],
          "name": "stdout"
        }
      ]
    },
    {
      "cell_type": "markdown",
      "metadata": {
        "id": "SGSmzw5zi1Lf"
      },
      "source": [
        "I've used an external library called [pptree](https://github.com/clemtoy/pptree) to draw the graph.\n",
        "\n",
        "Reading this graph is as below,\n",
        "\n",
        "1) For a branch that is on top, treat it as the corresponding split variable == 0\n",
        "\n",
        "2) For a branch that is on bottom, treat it as the corresponding split variable == 1"
      ]
    },
    {
      "cell_type": "markdown",
      "metadata": {
        "id": "vc4ok14Dj5K_"
      },
      "source": [
        "b)"
      ]
    },
    {
      "cell_type": "code",
      "metadata": {
        "id": "IcF9tHZui0rX"
      },
      "source": [
        "dt = DecisionTree(k=4,m=30)"
      ],
      "execution_count": null,
      "outputs": []
    },
    {
      "cell_type": "code",
      "metadata": {
        "id": "i_jYjqV1ju2T",
        "outputId": "359bfd93-8fc8-4c7a-f17c-9b57ca68ea85",
        "colab": {
          "base_uri": "https://localhost:8080/",
          "height": 538
        }
      },
      "source": [
        "dt.data"
      ],
      "execution_count": null,
      "outputs": [
        {
          "output_type": "execute_result",
          "data": {
            "text/plain": [
              "array([[1, 1, 0, 0, 0],\n",
              "       [1, 0, 0, 0, 0],\n",
              "       [1, 1, 1, 1, 1],\n",
              "       [1, 1, 1, 0, 1],\n",
              "       [0, 0, 1, 0, 1],\n",
              "       [1, 1, 0, 1, 1],\n",
              "       [0, 0, 0, 0, 1],\n",
              "       [1, 1, 0, 0, 0],\n",
              "       [1, 1, 0, 1, 1],\n",
              "       [0, 1, 1, 0, 0],\n",
              "       [0, 0, 0, 1, 1],\n",
              "       [0, 0, 0, 0, 1],\n",
              "       [1, 0, 0, 0, 0],\n",
              "       [1, 0, 1, 1, 1],\n",
              "       [1, 0, 0, 0, 0],\n",
              "       [0, 0, 0, 0, 1],\n",
              "       [0, 1, 1, 0, 0],\n",
              "       [0, 0, 1, 1, 0],\n",
              "       [0, 0, 0, 0, 1],\n",
              "       [1, 1, 1, 1, 1],\n",
              "       [1, 1, 1, 0, 1],\n",
              "       [0, 0, 1, 0, 1],\n",
              "       [0, 0, 0, 0, 1],\n",
              "       [0, 0, 0, 0, 1],\n",
              "       [1, 0, 0, 1, 0],\n",
              "       [1, 0, 0, 1, 0],\n",
              "       [1, 1, 1, 1, 1],\n",
              "       [1, 1, 0, 0, 0],\n",
              "       [1, 1, 1, 1, 1],\n",
              "       [1, 0, 0, 0, 0]])"
            ]
          },
          "metadata": {
            "tags": []
          },
          "execution_count": 11
        }
      ]
    },
    {
      "cell_type": "code",
      "metadata": {
        "id": "gdnmBNodjuqr"
      },
      "source": [
        "dt.train()"
      ],
      "execution_count": null,
      "outputs": []
    },
    {
      "cell_type": "code",
      "metadata": {
        "id": "nbTqlCHMjuhR",
        "outputId": "939e9008-f9f2-4de5-c934-dac56e456003",
        "colab": {
          "base_uri": "https://localhost:8080/",
          "height": 278
        }
      },
      "source": [
        "dt.tree.pretty_print()"
      ],
      "execution_count": null,
      "outputs": [
        {
          "output_type": "stream",
          "text": [
            "      ┌Y=1\n",
            "    ┌3┤\n",
            "    | | ┌Y=1\n",
            "    | └2┤\n",
            "    |   └Y=0\n",
            "  ┌1┤\n",
            "  | └Y=0\n",
            " 0┤\n",
            "  |   ┌Y=0\n",
            "  | ┌3┤\n",
            "  | | | ┌Y=0\n",
            "  | | └1┤\n",
            "  | |   └Y=1\n",
            "  └2┤\n",
            "    └Y=1\n"
          ],
          "name": "stdout"
        }
      ]
    },
    {
      "cell_type": "markdown",
      "metadata": {
        "id": "WNjQojGOrUF0"
      },
      "source": [
        "a) and b) shows two different trees for different data of same size. \n",
        "\n",
        "For me the tree makes sense as the Y value depends on the X[0] value and I expected it to be always part of all the paths in the tree and this is the behaviour I see in the multiple trials I've done "
      ]
    },
    {
      "cell_type": "markdown",
      "metadata": {
        "id": "N4N9bwkmrT69"
      },
      "source": [
        "****"
      ]
    },
    {
      "cell_type": "markdown",
      "metadata": {
        "id": "Ui9ri2_QrTwT"
      },
      "source": [
        "4) Write a function that takes a decision tree and estimates its typical error on the underlying distribution err( f ˆ );\n",
        "i.e., generate a lot of data according to the above scheme, and find the average error rate of this tree over that\n",
        "data."
      ]
    },
    {
      "cell_type": "markdown",
      "metadata": {
        "id": "o2GtTPw_rTgi"
      },
      "source": [
        "Answer: \n",
        "\n",
        "DecisionTree's estimate_distribution_error function finds the error on the underlying distribution\n",
        "\n",
        "\n",
        "\n",
        "```\n",
        "def estimate_distribution_error(self,m:int=None, N:int=100) -> float:\n",
        "    \"\"\"\n",
        "      Find the underlying distribution error. We do this by regenerating the data \n",
        "      N times and averaging the error from the regenerated data\n",
        "      Input:\n",
        "        m : size of the regenerated data\n",
        "        N : number of times we need to regenerate the data \n",
        "    \"\"\"\n",
        "    error = 0\n",
        "    for i in range(N):\n",
        "      self.regenerate_data(k=self.k, m=m)\n",
        "      error += self.error()\n",
        "    return error / N\n",
        "```\n"
      ]
    },
    {
      "cell_type": "code",
      "metadata": {
        "id": "YOtTLKadpExl",
        "outputId": "446bdf0e-40ab-475c-aba6-d055dfe88773",
        "colab": {
          "base_uri": "https://localhost:8080/",
          "height": 34
        }
      },
      "source": [
        "dt.estimate_distribution_error(N=1000)"
      ],
      "execution_count": null,
      "outputs": [
        {
          "output_type": "execute_result",
          "data": {
            "text/plain": [
              "0.03126666666666695"
            ]
          },
          "metadata": {
            "tags": []
          },
          "execution_count": 14
        }
      ]
    },
    {
      "cell_type": "markdown",
      "metadata": {
        "id": "9pD5yndr_KE7"
      },
      "source": [
        "***"
      ]
    },
    {
      "cell_type": "markdown",
      "metadata": {
        "id": "axXbPBO5tyyg"
      },
      "source": [
        "5) For k = 10, estimate the value of |err train ( f ˆ ) − err( f ˆ )| for a given m by repeatedly generating data sets, fitting\n",
        "trees to those data sets, and estimating the true and training error. Do this for multiple m, and graph this\n",
        "difference as a function of m. What can you say about the marginal value of additional training data?"
      ]
    },
    {
      "cell_type": "markdown",
      "metadata": {
        "id": "yqm4jLpitygD"
      },
      "source": [
        "err_train(f_hat) is always 0 and I do not see any case where it wouldn't be, so |err_train(f_hat) - err(f_hat)| is just err(f_hat) which is same as the previous question."
      ]
    },
    {
      "cell_type": "markdown",
      "metadata": {
        "id": "u7shdV_6ueZg"
      },
      "source": [
        "For k=10 :\n"
      ]
    },
    {
      "cell_type": "code",
      "metadata": {
        "id": "yZOhrFRQqP-T"
      },
      "source": [
        "m_range = np.arange(10, 1000, 10)\n",
        "error_distribution = []\n",
        "for i in m_range:  \n",
        "  dt = DecisionTree(k=10, m= i)\n",
        "  dt.train()\n",
        "  error_distribution.append(dt.estimate_distribution_error(N=100))"
      ],
      "execution_count": null,
      "outputs": []
    },
    {
      "cell_type": "code",
      "metadata": {
        "id": "M1SYkTq2XoJi",
        "outputId": "62cea6c1-3160-4c5e-ae5d-d3d4ccb6faf9",
        "colab": {
          "base_uri": "https://localhost:8080/",
          "height": 513
        }
      },
      "source": [
        "plt.figure(figsize=(10,8))\n",
        "plt.plot(m_range, error_distribution)\n",
        "plt.title(\"Size vs error\")\n",
        "plt.xlabel(\"Size of the data\")\n",
        "plt.ylabel(\"Error\")\n",
        "plt.show()"
      ],
      "execution_count": null,
      "outputs": [
        {
          "output_type": "display_data",
          "data": {
            "image/png": "[encoded data removed]",
            "text/plain": [
              "<Figure size 720x576 with 1 Axes>"
            ]
          },
          "metadata": {
            "tags": [],
            "needs_background": "light"
          }
        }
      ]
    },
    {
      "cell_type": "markdown",
      "metadata": {
        "id": "8IYcyyiubMd5"
      },
      "source": [
        "As we can see from the graph of size vs error, as we increase the size of the data there is a decrease in the error"
      ]
    },
    {
      "cell_type": "markdown",
      "metadata": {
        "id": "-V8I-mWkyCUf"
      },
      "source": [
        "***"
      ]
    },
    {
      "cell_type": "markdown",
      "metadata": {
        "id": "8RDhyIVEn3uQ"
      },
      "source": [
        "6) Design an alternative metric for splitting the data, not based on information content / information gain. Repeat\n",
        "the computation from (5) above for your metric, and compare the performance of your trees vs the ID3 trees."
      ]
    },
    {
      "cell_type": "markdown",
      "metadata": {
        "id": "Hrz1g4hpt5JR"
      },
      "source": [
        "The alternative approach for splitting that is implemented is GINI index, which measures the degree or probability of a particular variable being wrongly classified when it is randomly chosen\n",
        "\n",
        "Gini for each column is given by:\n",
        "\n",
        "$ Gini = 1 - \\sum_{i=1}^{n} (p_i)^2 $\n",
        "\n",
        "$p_i$: probability of column values being 0 or 1 (In this case)\n",
        "\n",
        "\n",
        "Steps:\n",
        "\n",
        "1) Find Gini Index for all columns using the formula above \n",
        "\n",
        "2) Choose the column with smallest gini index as the splitting variable\n",
        "\n",
        "3) Repeat the above two steps untill stopping condition"
      ]
    },
    {
      "cell_type": "markdown",
      "metadata": {
        "id": "GqAMEeEiyvhl"
      },
      "source": [
        "The implementation is as below:\n",
        "\n",
        "\n",
        "\n",
        "```\n",
        "\n",
        "def gini_fit(self, data):\n",
        "    if (((data[:,-1]==0).sum(0) == len(data[:,-1])) or ((data[:,-1]==1).sum(0) == len(data[:,-1])) ):\n",
        "      return Node(\"Y=0\") if (data[:,-1] == 0).sum(0) == len(data[:,-1]) else Node(\"Y=1\")\n",
        "    gini = []\n",
        "    for c in range(data.shape[1] - 1):\n",
        "      N = len(data[:,c])\n",
        "      c_0 = data[np.where(data[:,c] == 0)]\n",
        "      c_1 = data[np.where(data[:,c] == 1)]\n",
        "      G_c_0 = 1 - ((len(c_0[np.where(c_0[:,-1] == 0)])/c_0.shape[0]) ** 2 if c_0.size != 0 else 0) - ((len(c_0[np.where(c_0[:,-1] == 1)])/c_0.shape[0]) ** 2 if c_0.size != 0 else 0)\n",
        "      G_c_1 = 1 - ((len(c_1[np.where(c_1[:,-1] == 0)])/c_1.shape[0]) ** 2 if c_1.size != 0 else 0) - ((len(c_1[np.where(c_1[:,-1] == 1)])/c_1.shape[0]) ** 2 if c_1.size != 0 else 0)\n",
        "      gini.append(c_0.shape[0] / N * G_c_0 + c_1.shape[0] / N * G_c_1)\n",
        "    gini = np.array(gini)\n",
        "    split_var = gini.argmin()\n",
        "    node = Node(split_var)\n",
        "    node.left = self.gini_fit(data[np.where(data[:,split_var] == 0)])\n",
        "    node.right = self.gini_fit(data[np.where(data[:,split_var] == 1)])\n",
        "    return node\n",
        "\n",
        "```\n",
        "\n"
      ]
    },
    {
      "cell_type": "markdown",
      "metadata": {
        "id": "FoI0kJH30C-y"
      },
      "source": [
        "To train, we need to call the train method as below:\n",
        "\n",
        "\n",
        "```\n",
        "df.train(\"gini\")\n",
        "```\n",
        "\n",
        "\n"
      ]
    },
    {
      "cell_type": "code",
      "metadata": {
        "id": "UmURbgFnLcml"
      },
      "source": [
        "dt = DecisionTree(k=4, m=30)\n",
        "dt.train(\"gini\")\n"
      ],
      "execution_count": null,
      "outputs": []
    },
    {
      "cell_type": "code",
      "metadata": {
        "id": "GQsqbxuJIXDO",
        "outputId": "3ff3097f-cc37-4c5c-cbf7-893fbe70e46f",
        "colab": {
          "base_uri": "https://localhost:8080/",
          "height": 243
        }
      },
      "source": [
        "dt.tree.pretty_print()"
      ],
      "execution_count": null,
      "outputs": [
        {
          "output_type": "stream",
          "text": [
            "      ┌Y=1\n",
            "    ┌1┤\n",
            "    | └Y=0\n",
            "  ┌0┤\n",
            "  | | ┌Y=0\n",
            "  | └1┤\n",
            "  |   └Y=1\n",
            " 3┤\n",
            "  |   ┌Y=1\n",
            "  | ┌2┤\n",
            "  | | └Y=0\n",
            "  └0┤\n",
            "    └Y=1\n"
          ],
          "name": "stdout"
        }
      ]
    },
    {
      "cell_type": "code",
      "metadata": {
        "id": "GGuBB-d8IQYW",
        "outputId": "698710ea-96f1-490f-8494-4f252d6133b2",
        "colab": {
          "base_uri": "https://localhost:8080/",
          "height": 513
        }
      },
      "source": [
        "m_range = np.arange(10, 1000, 10)\n",
        "error_distribution_gini = []\n",
        "for i in m_range:  \n",
        "  dt = DecisionTree(k=10, m= i)\n",
        "  dt.train(\"gini\")\n",
        "  error_distribution_gini.append(dt.estimate_distribution_error(N=100))\n",
        "plt.figure(figsize=(10,8))\n",
        "plt.plot(m_range, error_distribution_gini)\n",
        "plt.title(\"Size vs error for gini\")\n",
        "plt.xlabel(\"Size of the data\")\n",
        "plt.ylabel(\"Error\")\n",
        "plt.show()\n"
      ],
      "execution_count": null,
      "outputs": [
        {
          "output_type": "display_data",
          "data": {
            "image/png": "[encoded data removed]",
            "text/plain": [
              "<Figure size 720x576 with 1 Axes>"
            ]
          },
          "metadata": {
            "tags": [],
            "needs_background": "light"
          }
        }
      ]
    },
    {
      "cell_type": "markdown",
      "metadata": {
        "id": "himss_TZIlwo"
      },
      "source": [
        "Comparing both:"
      ]
    },
    {
      "cell_type": "code",
      "metadata": {
        "id": "R7-DhD3j2Hmn",
        "outputId": "63bd162b-fd2b-4004-cede-92704a2e23db",
        "colab": {
          "base_uri": "https://localhost:8080/",
          "height": 513
        }
      },
      "source": [
        "plt.figure(figsize=(10,8))\n",
        "plt.plot(m_range,error_distribution, label=\"IG/Entropy\")\n",
        "plt.plot(m_range,error_distribution_gini, label=\"Gini Index\")\n",
        "plt.legend()\n",
        "plt.xlabel(\"Size of the data\")\n",
        "plt.ylabel(\"Error\")\n",
        "plt.title(\"Error vs Size for different split strategies\")\n",
        "plt.show()"
      ],
      "execution_count": null,
      "outputs": [
        {
          "output_type": "display_data",
          "data": {
            "image/png": "[encoded data removed]",
            "text/plain": [
              "<Figure size 720x576 with 1 Axes>"
            ]
          },
          "metadata": {
            "tags": [],
            "needs_background": "light"
          }
        }
      ]
    },
    {
      "cell_type": "markdown",
      "metadata": {
        "id": "61eUzrBEZx91"
      },
      "source": [
        "Gini and entropy seems to be fitting the tree with similar error"
      ]
    },
    {
      "cell_type": "code",
      "metadata": {
        "id": "eOZ6jtYOqjnV"
      },
      "source": [
        ""
      ],
      "execution_count": null,
      "outputs": []
    }
  ]
}