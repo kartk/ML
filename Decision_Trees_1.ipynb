{
  "nbformat": 4,
  "nbformat_minor": 0,
  "metadata": {
    "colab": {
      "name": "Decision Trees - 1",
      "provenance": [],
      "collapsed_sections": [],
      "authorship_tag": "ABX9TyNFMNmW7Hk1tGvT2rZh16Cb",
      "include_colab_link": true
    },
    "kernelspec": {
      "name": "python3",
      "display_name": "Python 3"
    }
  },
  "cells": [
    {
      "cell_type": "markdown",
      "metadata": {
        "id": "view-in-github",
        "colab_type": "text"
      },
      "source": [
        "<a href=\"https://colab.research.google.com/github/kartk/ML/blob/main/Decision_Trees_1.ipynb\" target=\"_parent\"><img src=\"https://colab.research.google.com/assets/colab-badge.svg\" alt=\"Open In Colab\"/></a>"
      ]
    },
    {
      "cell_type": "code",
      "metadata": {
        "id": "6gHO9u0XoUy7",
        "outputId": "2e16252b-8285-4ed1-ba00-e32edcc0c62e",
        "colab": {
          "base_uri": "https://localhost:8080/"
        }
      },
      "source": [
        "!pip install pptree"
      ],
      "execution_count": 1,
      "outputs": [
        {
          "output_type": "stream",
          "text": [
            "Requirement already satisfied: pptree in /usr/local/lib/python3.6/dist-packages (3.1)\n"
          ],
          "name": "stdout"
        }
      ]
    },
    {
      "cell_type": "code",
      "metadata": {
        "id": "xgnHL-ZnFLaw"
      },
      "source": [
        "import numpy as np\n",
        "from typing import List, Tuple\n",
        "from ppbtree import print_tree"
      ],
      "execution_count": 2,
      "outputs": []
    },
    {
      "cell_type": "markdown",
      "metadata": {
        "id": "iTnwKxDQGnd2"
      },
      "source": [
        "# *Creating Data*"
      ]
    },
    {
      "cell_type": "markdown",
      "metadata": {
        "id": "bWe5lKbzGyZ5"
      },
      "source": [
        "1)  For a given value of k, m, (number of features, number of data points), write a function to generate a trainingdata set based on the above scheme."
      ]
    },
    {
      "cell_type": "code",
      "metadata": {
        "id": "yWIbg0WAHIYL"
      },
      "source": [
        "class Node:\n",
        "  def __init__(self, data):\n",
        "    self.left = None\n",
        "    self.right = None\n",
        "    self.data = data\n",
        "  def pretty_print(self):\n",
        "      print_tree(self,nameattr=\"data\")\n",
        "\n",
        "\n",
        "class DecisionTree:\n",
        "  def __init__(self, k:int, m:int )-> None:\n",
        "    self.data = self.datagenerator(k,m)\n",
        "    self.tree = None\n",
        "    self.k = k\n",
        "    self.m = m\n",
        "\n",
        "  def datagenerator(self, k:int, m:int)->List[List[int]]:\n",
        "    \"\"\"\n",
        "    Input:\n",
        "      k: number of features\n",
        "      m: number of data points\n",
        "    Returns:\n",
        "      Numpy array of size (m,k)\n",
        "    \"\"\"\n",
        "    data = []\n",
        "    w_den = sum([np.power(0.9, i) for i in range(2, k+1)])\n",
        "    for i in range(m):\n",
        "      X = [np.random.choice([1,0], p=[0.5, 0.5])]\n",
        "      for j in range(1,k):\n",
        "        X.append(np.random.choice([X[j-1], 1-X[j-1]], p = [0.75, 0.25]))\n",
        "      X.append(X[1] if (sum([ np.power(0.9, j)/w_den * X_j for j, X_j in enumerate(X[1:])]) >= 0.5) else (1 - X[1]))\n",
        "      data.append(X)\n",
        "    return np.array(data)\n",
        "\n",
        "  def regenerate_data(self, k=None, m=None):\n",
        "    self.data = self.datagenerator(k if k else self.k , m if m else self.m)\n",
        "\n",
        "  def entropy(self, vector:np.array)->np.array:\n",
        "    P_0 = (vector == 0).sum(0) / len(vector)\n",
        "    P_1 = (vector == 1).sum(0) / len(vector)\n",
        "    H_Y = - P_0 * np.log2(P_0) - P_1 * np.log2(P_1)\n",
        "    return H_Y\n",
        "\n",
        "  def fit(self, data):\n",
        "    # print(data)\n",
        "    X, Y = data[:,:-1], data[:,-1]\n",
        "    if ((Y == 0).sum(0) == len(Y) or (Y == 1).sum(0) == len(Y)):\n",
        "      print(\"returning\")\n",
        "      return Node(\"Y=0\") if (Y == 0).sum(0) == len(Y) else Node(\"Y=1\")\n",
        "    # Calculating H(Y)\n",
        "    H_Y = self.entropy(Y)\n",
        "\n",
        "    # # Calculating H(Y|X)\n",
        "    cond_X_Y = []\n",
        "    for i in range(X.shape[1]):\n",
        "      P_X_0 = (X[:,i] == 0).sum(0) / len(X[:,i])\n",
        "      P_X_1 = (X[:,i] == 1).sum(0) / len(X[:,i])\n",
        "      # print(Y[np.where(X[:,i]==0)])\n",
        "      # print(Y[np.where(X[:,i]==1)])\n",
        "      H_Y_X_0 = max(0, self.entropy(Y[np.where(X[:,i]==0)]))\n",
        "      H_Y_X_1 = max(0, self.entropy(Y[np.where(X[:,i]==1)]))\n",
        "      # print(f\"{i} {H_Y_X_0} {H_Y_X_1}\")\n",
        "      cond_X_Y.append(P_X_0 * H_Y_X_0 + P_X_1 * H_Y_X_1)\n",
        "    IG = H_Y - cond_X_Y\n",
        "    print(IG)\n",
        "    # print(H_Y)\n",
        "    # print(cond_X_Y)\n",
        "    # print(IG)\n",
        "    max_IG = np.argmax(IG)\n",
        "    print(max_IG)\n",
        "    print()\n",
        "    print(\"fitting 0\")\n",
        "    node = Node(max_IG)\n",
        "    node.left = self.fit(data[np.where(data[:,max_IG] == 0)])\n",
        "    print(\"fitting 1\")\n",
        "    node.right = self.fit(data[np.where(data[:,max_IG] == 1)])\n",
        "    return node\n",
        "  def train(self):\n",
        "    self.tree=self.fit(self.data)\n",
        "  \n",
        "  def get_y(self, vector, node):\n",
        "    if type(node.data) == str :\n",
        "      return int(node.data[-1])\n",
        "    if vector[node.data] == 0:\n",
        "      return self.get_y(vector, node.left)\n",
        "    else:\n",
        "      return self.get_y(vector, node.right)\n",
        "\n",
        "\n",
        "  def predict(self):\n",
        "    if self.tree is None:\n",
        "      print(\"Model not trained yet!! Run train() before predict \")\n",
        "      return\n",
        "    correct_count = 0\n",
        "    y = []\n",
        "    for i in self.data:\n",
        "      y.append(self.get_y(i, self.tree))\n",
        "    return y\n",
        "  \n",
        "  def error(self):\n",
        "    y_hat = self.predict()\n",
        "    y = self.data[:, -1]\n",
        "    return 1 - (y_hat == y).sum(0) / len(y)\n",
        "\n"
      ],
      "execution_count": 3,
      "outputs": []
    },
    {
      "cell_type": "code",
      "metadata": {
        "id": "nJgU4JRIc0Ve"
      },
      "source": [
        "dt = DecisionTree(4, 30)"
      ],
      "execution_count": 4,
      "outputs": []
    },
    {
      "cell_type": "code",
      "metadata": {
        "id": "zhEgp90sYDNA",
        "outputId": "d05da11d-01d5-4b5e-80ff-826c316993f3",
        "colab": {
          "base_uri": "https://localhost:8080/"
        }
      },
      "source": [
        "dt.data"
      ],
      "execution_count": 5,
      "outputs": [
        {
          "output_type": "execute_result",
          "data": {
            "text/plain": [
              "array([[0, 0, 1, 1, 0],\n",
              "       [1, 1, 1, 0, 1],\n",
              "       [1, 1, 1, 1, 1],\n",
              "       [1, 0, 0, 0, 1],\n",
              "       [0, 1, 0, 0, 0],\n",
              "       [1, 1, 1, 0, 1],\n",
              "       [0, 0, 0, 0, 1],\n",
              "       [1, 0, 1, 0, 1],\n",
              "       [0, 0, 0, 1, 1],\n",
              "       [0, 0, 1, 1, 0],\n",
              "       [1, 1, 1, 0, 1],\n",
              "       [1, 1, 0, 1, 1],\n",
              "       [0, 0, 0, 0, 1],\n",
              "       [1, 1, 1, 1, 1],\n",
              "       [1, 1, 1, 1, 1],\n",
              "       [0, 1, 0, 1, 1],\n",
              "       [0, 0, 1, 1, 0],\n",
              "       [1, 1, 0, 1, 1],\n",
              "       [1, 1, 1, 0, 1],\n",
              "       [1, 1, 0, 0, 0],\n",
              "       [1, 1, 0, 0, 0],\n",
              "       [1, 1, 1, 0, 1],\n",
              "       [1, 1, 1, 1, 1],\n",
              "       [1, 1, 0, 0, 0],\n",
              "       [0, 0, 0, 0, 1],\n",
              "       [0, 0, 0, 0, 1],\n",
              "       [1, 1, 1, 0, 1],\n",
              "       [1, 0, 0, 0, 1],\n",
              "       [0, 0, 0, 0, 1],\n",
              "       [0, 0, 0, 0, 1]])"
            ]
          },
          "metadata": {
            "tags": []
          },
          "execution_count": 5
        }
      ]
    },
    {
      "cell_type": "code",
      "metadata": {
        "id": "qbryRHp9c-C0",
        "outputId": "82df36d2-92f3-4596-c439-9b68fb49b31a",
        "colab": {
          "base_uri": "https://localhost:8080/"
        }
      },
      "source": [
        "dt.train()"
      ],
      "execution_count": 6,
      "outputs": [
        {
          "output_type": "stream",
          "text": [
            "[2.64451609e-02 2.02858107e-05 1.28416105e-03 3.57281001e-03]\n",
            "0\n",
            "\n",
            "fitting 0\n",
            "[0.         0.01722008 0.54085208 0.16859063]\n",
            "2\n",
            "\n",
            "fitting 0\n",
            "[0.         0.28103611 0.         0.0430684 ]\n",
            "1\n",
            "\n",
            "fitting 0\n",
            "returning\n",
            "fitting 1\n",
            "[0. 0. 0. 1.]\n",
            "3\n",
            "\n",
            "fitting 0\n",
            "returning\n",
            "fitting 1\n",
            "returning\n",
            "fitting 1\n",
            "returning\n",
            "fitting 1\n",
            "[0.         0.04841568 0.26687815 0.10917034]\n",
            "2\n",
            "\n",
            "fitting 0\n",
            "[0.       0.291692 0.       0.291692]\n",
            "1\n",
            "\n",
            "fitting 0\n",
            "returning\n",
            "fitting 1\n",
            "[0.         0.         0.         0.97095059]\n",
            "3\n",
            "\n",
            "fitting 0\n",
            "returning\n",
            "fitting 1\n",
            "returning\n",
            "fitting 1\n",
            "returning\n"
          ],
          "name": "stdout"
        },
        {
          "output_type": "stream",
          "text": [
            "/usr/local/lib/python3.6/dist-packages/ipykernel_launcher.py:39: RuntimeWarning: invalid value encountered in long_scalars\n",
            "/usr/local/lib/python3.6/dist-packages/ipykernel_launcher.py:40: RuntimeWarning: invalid value encountered in long_scalars\n",
            "/usr/local/lib/python3.6/dist-packages/ipykernel_launcher.py:41: RuntimeWarning: divide by zero encountered in log2\n",
            "/usr/local/lib/python3.6/dist-packages/ipykernel_launcher.py:41: RuntimeWarning: invalid value encountered in double_scalars\n"
          ],
          "name": "stderr"
        }
      ]
    },
    {
      "cell_type": "code",
      "metadata": {
        "id": "KjLRFE2DoNyg",
        "outputId": "06f8b45f-b6d7-4fc9-fb90-7ccca75c30c7",
        "colab": {
          "base_uri": "https://localhost:8080/"
        }
      },
      "source": [
        "dt.tree.pretty_print()"
      ],
      "execution_count": 7,
      "outputs": [
        {
          "output_type": "stream",
          "text": [
            "      ┌Y=1\n",
            "    ┌1┤\n",
            "    | | ┌Y=0\n",
            "    | └3┤\n",
            "    |   └Y=1\n",
            "  ┌2┤\n",
            "  | └Y=0\n",
            " 0┤\n",
            "  |   ┌Y=1\n",
            "  | ┌1┤\n",
            "  | | | ┌Y=0\n",
            "  | | └3┤\n",
            "  | |   └Y=1\n",
            "  └2┤\n",
            "    └Y=1\n"
          ],
          "name": "stdout"
        }
      ]
    },
    {
      "cell_type": "code",
      "metadata": {
        "id": "YOtTLKadpExl"
      },
      "source": [
        "y = dt.predict()"
      ],
      "execution_count": 23,
      "outputs": []
    },
    {
      "cell_type": "code",
      "metadata": {
        "id": "9pD5yndr_KE7",
        "outputId": "b4faeb10-6e01-4a79-b712-b5355d65665c",
        "colab": {
          "base_uri": "https://localhost:8080/"
        }
      },
      "source": [
        "\n",
        "y"
      ],
      "execution_count": 24,
      "outputs": [
        {
          "output_type": "execute_result",
          "data": {
            "text/plain": [
              "[1,\n",
              " 1,\n",
              " 0,\n",
              " 0,\n",
              " 1,\n",
              " 0,\n",
              " 1,\n",
              " 1,\n",
              " 1,\n",
              " 1,\n",
              " 0,\n",
              " 0,\n",
              " 0,\n",
              " 0,\n",
              " 1,\n",
              " 1,\n",
              " 1,\n",
              " 1,\n",
              " 1,\n",
              " 1,\n",
              " 1,\n",
              " 1,\n",
              " 0,\n",
              " 0,\n",
              " 1,\n",
              " 1,\n",
              " 1,\n",
              " 0,\n",
              " 1,\n",
              " 1]"
            ]
          },
          "metadata": {
            "tags": []
          },
          "execution_count": 24
        }
      ]
    },
    {
      "cell_type": "code",
      "metadata": {
        "id": "yZOhrFRQqP-T"
      },
      "source": [
        "e = dt.error()"
      ],
      "execution_count": 8,
      "outputs": []
    },
    {
      "cell_type": "code",
      "metadata": {
        "id": "ajLSlRlu4yC5",
        "outputId": "833bffea-374e-4506-b448-bf1e34a89691",
        "colab": {
          "base_uri": "https://localhost:8080/"
        }
      },
      "source": [
        "e"
      ],
      "execution_count": 9,
      "outputs": [
        {
          "output_type": "execute_result",
          "data": {
            "text/plain": [
              "0.0"
            ]
          },
          "metadata": {
            "tags": []
          },
          "execution_count": 9
        }
      ]
    },
    {
      "cell_type": "markdown",
      "metadata": {
        "id": "OoPgdkVrhKdB"
      },
      "source": [
        "Q1 4)"
      ]
    },
    {
      "cell_type": "code",
      "metadata": {
        "id": "Qdkv-v_S_oz9"
      },
      "source": [
        "def error_f(dt:DecisionTree, N:int):\n",
        "  error_array = []\n",
        "  for i in range(N):\n",
        "    dt.regenerate_data()\n",
        "    error_array.append(dt.error())\n",
        "  return sum(error_array) / len(error_array)\n"
      ],
      "execution_count": 13,
      "outputs": []
    },
    {
      "cell_type": "code",
      "metadata": {
        "id": "SJ3-ZyKhYOhx",
        "outputId": "2089962f-c5a0-4250-d850-730e43dacb0a",
        "colab": {
          "base_uri": "https://localhost:8080/"
        }
      },
      "source": [
        "error_f(dt, 1000)"
      ],
      "execution_count": 18,
      "outputs": [
        {
          "output_type": "execute_result",
          "data": {
            "text/plain": [
              "0.1396333333333334"
            ]
          },
          "metadata": {
            "tags": []
          },
          "execution_count": 18
        }
      ]
    },
    {
      "cell_type": "code",
      "metadata": {
        "id": "VmA7ZpgaD0Zs",
        "outputId": "6bcd87bd-947a-4f72-ead4-2ea902fbb627",
        "colab": {
          "base_uri": "https://localhost:8080/"
        }
      },
      "source": [
        "np.arange(200, 10000, 500)"
      ],
      "execution_count": 13,
      "outputs": [
        {
          "output_type": "execute_result",
          "data": {
            "text/plain": [
              "array([ 200,  700, 1200, 1700, 2200, 2700, 3200, 3700, 4200, 4700, 5200,\n",
              "       5700, 6200, 6700, 7200, 7700, 8200, 8700, 9200, 9700])"
            ]
          },
          "metadata": {
            "tags": []
          },
          "execution_count": 13
        }
      ]
    },
    {
      "cell_type": "code",
      "metadata": {
        "id": "OzQTnOQJMMDn"
      },
      "source": [
        "import matplotlib.pyplot as plt"
      ],
      "execution_count": 14,
      "outputs": []
    },
    {
      "cell_type": "code",
      "metadata": {
        "id": "TF0FJpeBBs19",
        "outputId": "232dc3ef-70f4-475d-f806-0935c25719a7",
        "colab": {
          "base_uri": "https://localhost:8080/",
          "height": 630
        }
      },
      "source": [
        "error_array = []\n",
        "for i in np.arange(200, 10000, 500):\n",
        "  print(i)\n",
        "  error_array.append(error_f(dt, i))\n",
        "plt.plot(np.arange(200, 10000, 500), error_array)\n"
      ],
      "execution_count": 15,
      "outputs": [
        {
          "output_type": "stream",
          "text": [
            "200\n",
            "700\n",
            "1200\n",
            "1700\n",
            "2200\n",
            "2700\n",
            "3200\n",
            "3700\n",
            "4200\n",
            "4700\n",
            "5200\n",
            "5700\n",
            "6200\n",
            "6700\n",
            "7200\n",
            "7700\n",
            "8200\n",
            "8700\n",
            "9200\n",
            "9700\n"
          ],
          "name": "stdout"
        },
        {
          "output_type": "execute_result",
          "data": {
            "text/plain": [
              "[<matplotlib.lines.Line2D at 0x7f6494978240>]"
            ]
          },
          "metadata": {
            "tags": []
          },
          "execution_count": 15
        },
        {
          "output_type": "display_data",
          "data": {
            "image/png": "[encoded data removed]",
            "text/plain": [
              "<Figure size 432x288 with 1 Axes>"
            ]
          },
          "metadata": {
            "tags": [],
            "needs_background": "light"
          }
        }
      ]
    },
    {
      "cell_type": "code",
      "metadata": {
        "id": "uSKdfkJ8B-rd",
        "outputId": "3862a3fe-f215-4889-d0f8-889dd178bfb4",
        "colab": {
          "base_uri": "https://localhost:8080/"
        }
      },
      "source": [
        "sum([1,2,3])/len([1,2,3])"
      ],
      "execution_count": 110,
      "outputs": [
        {
          "output_type": "execute_result",
          "data": {
            "text/plain": [
              "2.0"
            ]
          },
          "metadata": {
            "tags": []
          },
          "execution_count": 110
        }
      ]
    },
    {
      "cell_type": "code",
      "metadata": {
        "id": "02-UXCXGCFcE",
        "outputId": "500e9b19-b18e-4df1-b5e5-051cb1ba0da4",
        "colab": {
          "base_uri": "https://localhost:8080/"
        }
      },
      "source": [
        "error_array"
      ],
      "execution_count": 16,
      "outputs": [
        {
          "output_type": "execute_result",
          "data": {
            "text/plain": [
              "[0.0,\n",
              " 0.0,\n",
              " 0.0,\n",
              " 0.0,\n",
              " 0.0,\n",
              " 0.0,\n",
              " 0.0,\n",
              " 0.0,\n",
              " 0.0,\n",
              " 0.0,\n",
              " 0.0,\n",
              " 0.0,\n",
              " 0.0,\n",
              " 0.0,\n",
              " 0.0,\n",
              " 0.0,\n",
              " 0.0,\n",
              " 0.0,\n",
              " 0.0,\n",
              " 0.0]"
            ]
          },
          "metadata": {
            "tags": []
          },
          "execution_count": 16
        }
      ]
    },
    {
      "cell_type": "code",
      "metadata": {
        "id": "t8Y6gKoUXy7S",
        "outputId": "48ec8f64-f846-4dbf-eead-61497ff2bf59",
        "colab": {
          "base_uri": "https://localhost:8080/"
        }
      },
      "source": [
        "error_f(dt,1000)"
      ],
      "execution_count": 17,
      "outputs": [
        {
          "output_type": "execute_result",
          "data": {
            "text/plain": [
              "0.0"
            ]
          },
          "metadata": {
            "tags": []
          },
          "execution_count": 17
        }
      ]
    },
    {
      "cell_type": "code",
      "metadata": {
        "id": "O4OzAb3vX4sF"
      },
      "source": [
        ""
      ],
      "execution_count": null,
      "outputs": []
    }
  ]
}