{
  "nbformat": 4,
  "nbformat_minor": 0,
  "metadata": {
    "colab": {
      "name": "Decision Trees - 1",
      "provenance": [],
      "collapsed_sections": [],
      "authorship_tag": "ABX9TyNfNp/M7S2f1yLVH1wUxwlE",
      "include_colab_link": true
    },
    "kernelspec": {
      "name": "python3",
      "display_name": "Python 3"
    }
  },
  "cells": [
    {
      "cell_type": "markdown",
      "metadata": {
        "id": "view-in-github",
        "colab_type": "text"
      },
      "source": [
        "<a href=\"https://colab.research.google.com/github/kartk/ML/blob/main/Decision_Trees_1.ipynb\" target=\"_parent\"><img src=\"https://colab.research.google.com/assets/colab-badge.svg\" alt=\"Open In Colab\"/></a>"
      ]
    },
    {
      "cell_type": "code",
      "metadata": {
        "id": "xgnHL-ZnFLaw"
      },
      "source": [
        "import numpy as np\n",
        "from typing import List, Tuple"
      ],
      "execution_count": 37,
      "outputs": []
    },
    {
      "cell_type": "markdown",
      "metadata": {
        "id": "iTnwKxDQGnd2"
      },
      "source": [
        "# *Creating Data*"
      ]
    },
    {
      "cell_type": "markdown",
      "metadata": {
        "id": "bWe5lKbzGyZ5"
      },
      "source": [
        "1)  For a given value of k, m, (number of features, number of data points), write a function to generate a trainingdata set based on the above scheme."
      ]
    },
    {
      "cell_type": "code",
      "metadata": {
        "id": "yWIbg0WAHIYL"
      },
      "source": [
        "def datagenerator(k:int, m:int)->List[Tuple[List[int], int]]:\n",
        "  \"\"\"\n",
        "  Input:\n",
        "    k: number of features\n",
        "    m: number of data points\n",
        "  Returns:\n",
        "    Numpy array of size (m,k)\n",
        "  \"\"\"\n",
        "  data = []\n",
        "  w_den = sum([np.power(0.9, i) for i in range(2, k+1)])\n",
        "  for i in range(m):\n",
        "    X = [np.random.choice([1,0], p=[0.5, 0.5])]\n",
        "    for j in range(1,k):\n",
        "      X.append(np.random.choice([X[j-1], 1-X[j-1]], p = [0.75, 0.25]))\n",
        "    Y = X[1] if (sum([ np.power(0.9, j)/w_den * X_j for j, X_j in enumerate(X[1:])]) >= 0.5) else (1 - X[1])\n",
        "    data.append((X,Y))\n",
        "  return data\n",
        "\n"
      ],
      "execution_count": 39,
      "outputs": []
    },
    {
      "cell_type": "code",
      "metadata": {
        "id": "a1ed6g3wL6kQ"
      },
      "source": [
        "data = datagenerator(k=4, m =30)"
      ],
      "execution_count": 40,
      "outputs": []
    },
    {
      "cell_type": "code",
      "metadata": {
        "id": "ACASHpEoQA5v"
      },
      "source": [
        "def fit(data:List[Tuple[List[int]]]):\n",
        "  \n"
      ],
      "execution_count": null,
      "outputs": []
    }
  ]
}