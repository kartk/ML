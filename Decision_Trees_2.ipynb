{
  "nbformat": 4,
  "nbformat_minor": 0,
  "metadata": {
    "colab": {
      "name": "Decision Trees - 2.ipynb",
      "provenance": [],
      "collapsed_sections": [],
      "authorship_tag": "ABX9TyOJK1yyh/CgZKfny/L3xwsx",
      "include_colab_link": true
    },
    "kernelspec": {
      "name": "python3",
      "display_name": "Python 3"
    }
  },
  "cells": [
    {
      "cell_type": "markdown",
      "metadata": {
        "id": "view-in-github",
        "colab_type": "text"
      },
      "source": [
        "<a href=\"https://colab.research.google.com/github/kartk/ML/blob/main/Decision_Trees_2.ipynb\" target=\"_parent\"><img src=\"https://colab.research.google.com/assets/colab-badge.svg\" alt=\"Open In Colab\"/></a>"
      ]
    },
    {
      "cell_type": "markdown",
      "metadata": {
        "id": "IX0ieC7-k0Nh"
      },
      "source": [
        "-----\n",
        "\n"
      ]
    },
    {
      "cell_type": "markdown",
      "metadata": {
        "id": "X7A01qNDk36C"
      },
      "source": [
        "# Part 2"
      ]
    },
    {
      "cell_type": "markdown",
      "metadata": {
        "id": "ZEaVotG4lcyJ"
      },
      "source": [
        "This was done as another notebook and the code is identical to the previous one. You can skip to the question details down below the codes"
      ]
    },
    {
      "cell_type": "code",
      "metadata": {
        "id": "SHvTY82pcTUp",
        "outputId": "779d7c99-31e5-4f2a-e652-04bd08cb983c",
        "colab": {
          "base_uri": "https://localhost:8080/",
          "height": 34
        }
      },
      "source": [
        "!pip install pptree"
      ],
      "execution_count": null,
      "outputs": [
        {
          "output_type": "stream",
          "text": [
            "Requirement already satisfied: pptree in /usr/local/lib/python3.6/dist-packages (3.1)\n"
          ],
          "name": "stdout"
        }
      ]
    },
    {
      "cell_type": "code",
      "metadata": {
        "id": "miUA8XjIb7Im"
      },
      "source": [
        "import numpy as np\n",
        "from typing import List, Tuple\n",
        "from ppbtree import print_tree\n",
        "import matplotlib.pyplot as plt\n",
        "from collections import Counter \n",
        "import warnings\n",
        "warnings.filterwarnings('ignore')"
      ],
      "execution_count": null,
      "outputs": []
    },
    {
      "cell_type": "code",
      "metadata": {
        "id": "Jd1fIXe5cRRX"
      },
      "source": [
        "class Node:\n",
        "  \"\"\"\n",
        "    @class Node: used to store the binary tree\n",
        "  \"\"\"\n",
        "  def __init__(self, data):\n",
        "    self.left = None\n",
        "    self.right = None\n",
        "    self.data = data\n",
        "  def pretty_print(self):\n",
        "      print_tree(self,nameattr=\"data\")\n",
        "\n",
        "\n",
        "def maxDepth(node):\n",
        "  \"\"\" \n",
        "    Function to calculate the maxdepth for a given binary tree \n",
        "    Code taken from: https://www.geeksforgeeks.org/write-a-c-program-to-find-the-maximum-depth-or-height-of-a-tree/\n",
        "  \"\"\"\n",
        "  if node is None: \n",
        "      return 0 ;    \n",
        "  else : \n",
        "      lDepth = maxDepth(node.left) \n",
        "      rDepth = maxDepth(node.right) \n",
        "      if (lDepth > rDepth): \n",
        "          return lDepth+1\n",
        "      else: \n",
        "          return rDepth+1\n",
        "\n",
        "\n",
        "class DecisionTree:\n",
        "  \"\"\"\n",
        "    @class DecisionTree: Logic for the decision tree implementation\n",
        "  \"\"\"\n",
        "  def __init__(self,data:np.array = None, k:int=None, m:int=None, d:int = None, s:int = None )-> None:\n",
        "    \"\"\"\n",
        "      constructor:\n",
        "        Input:\n",
        "            data  : data to used for training and testing (Optional)\n",
        "            k     : Number of features the data should have (Optional)\n",
        "            m     : Size of the data  (Optional)\n",
        "            d     : Depth up to which to grow the tree (Optional)\n",
        "            s     : Sampling size (Optional)\n",
        "    \"\"\"\n",
        "    assert ((data is None) and ( m is not None)) or ((data is not None) and ( m is None)), \"Both m(size) and data can't be empty\" \n",
        "    assert ((d is None) and (s is not None)) or ((d is not None) and (s is None)) or ((d is None) and (s is None)), \"Give either d(depth size) or s(sample size), not both!\"\n",
        "    self.k = data.shape[1] if data is not None else k\n",
        "    self.m = data.shape[0] if data is not None else m\n",
        "    self.data = data if data is not None else DecisionTree.datagenerator2(m)\n",
        "    self.d = d\n",
        "    self.s = s\n",
        "    self.tree = None\n",
        "    self.nodes = Counter()\n",
        "\n",
        "  @classmethod\n",
        "  def datagenerator(self, k:int, m:int)->List[List[int]]:\n",
        "    \"\"\"\n",
        "    Generate data accoriding to the given specification (Q1)\n",
        "    Input:\n",
        "      k: number of features\n",
        "      m: number of data points\n",
        "    Returns:\n",
        "      Numpy array of size (m,k+1)\n",
        "    \"\"\"\n",
        "    w_den = sum([np.power(0.9, i) for i in range(2, k+1)])\n",
        "\n",
        "    data = [[0 for _ in range(k+1)] for _ in range(m)]\n",
        "    for i in range(m):\n",
        "      for j in range(k):\n",
        "        if j == 0 :\n",
        "          data[i][j] = 0 if np.random.random() <= 0.5 else 1\n",
        "        if (j >= 1):\n",
        "          data[i][j] = data[i][j-1] if np.random.random() > 0.25 else 1-data[i][j-1]\n",
        "        data[i][k] = data[i][0] if (sum([ np.power(0.9, j+2)/w_den * X_j for j, X_j in enumerate(data[i][1:])]) >= 0.5) else (1 - data[i][0])\n",
        "    return np.array(data)\n",
        "\n",
        "\n",
        "  @classmethod\n",
        "  def datagenerator2(self, m:int)->np.array:\n",
        "    \"\"\"\n",
        "    Generate data accoriding to the given specification (Q2)\n",
        "    Input:\n",
        "      m: number of data points\n",
        "    Returns:\n",
        "      Numpy array of size (m,k)\n",
        "    \"\"\"\n",
        "    data = [[0 for _ in range(22)] for _ in range(m)]\n",
        "    for i in range(m):\n",
        "      for j in range(21):\n",
        "        if j == 0 :\n",
        "          data[i][j] = 0 if np.random.random() <= 0.5 else 1\n",
        "        if (j >= 1) and (j<=14):\n",
        "          data[i][j] = data[i][j-1] if np.random.random() > 0.25 else 1-data[i][j-1]\n",
        "        if (j >= 15) and (j<21):\n",
        "          data[i][j] = 0 if np.random.random() <= 0.5 else 1\n",
        "      data[i][21] = np.bincount(data[i][8:15]).argmax() if data[i][0] else np.bincount(data[i][1:8]).argmax()\n",
        "    return np.array(data)\n",
        "\n",
        "\n",
        "  def regenerate_data(self, k=None, m=None)->None:\n",
        "    \"\"\"\n",
        "      Function to regenerate data either. We regenerate the data and store it back as a member variable\n",
        "    \"\"\"\n",
        "    self.data = DecisionTree.datagenerator(k if k else self.k , m if m else self.m) \\\n",
        "    if k is not None else DecisionTree.datagenerator2(m if m is not None else self.m)\n",
        "\n",
        "  def entropy(self, vector:np.array)->np.array:\n",
        "    \"\"\"\n",
        "      Function to calculate entropy H(Y)\n",
        "    \"\"\"\n",
        "    P_0 = (vector == 0).sum(0) / len(vector)\n",
        "    P_1 = (vector == 1).sum(0) / len(vector)\n",
        "    H_Y = - P_0 * np.log2(P_0) - P_1 * np.log2(P_1)\n",
        "    return H_Y\n",
        "\n",
        "  def entropy_fit(self, data:np.array, depth=None)->None:\n",
        "    \"\"\"\n",
        "      Function to fit decision tree using ID3, the fitted tree is stored as Node in member variable tree\n",
        "      Input:\n",
        "        data  : Data to fit the tree on\n",
        "        depth : Max depth to grow the tree\n",
        "    \"\"\"\n",
        "    X, Y = data[:,:-1], data[:,-1]\n",
        "    if (\n",
        "        (Y == 0).sum(0) == len(Y) or (Y == 1).sum(0) == len(Y) or \n",
        "        (depth and self. d is not None and (depth+1 > self.d)) or \n",
        "        (self.s is not None and (len(Y) <= self.s))\n",
        "        ) :\n",
        "      # Exit Condition for pruning by sample\n",
        "      if self.s is not None and (len(Y) <= self.s):\n",
        "        b= np.bincount(data[:,-1])\n",
        "        max_values = [i for i, x in enumerate(b) if x == max(b)]\n",
        "        if len(max_values) == 1:\n",
        "          return Node(f\"Y={max_values[0]}\")\n",
        "        else :\n",
        "          if np.random.random()>0.5:\n",
        "            return Node(f\"Y={max_values[1]}\")\n",
        "          return Node(f\"Y={max_values[0]}\")\n",
        "\n",
        "      # Exit Condition for pruning by depth\n",
        "      if depth and self. d and (depth+1 > self.d):\n",
        "        return Node(f\"Y={np.bincount(data[:,-1]).argmax()}\")\n",
        "      # Exit condition when all Y values are same\n",
        "      return Node(\"Y=0\") if (Y == 0).sum(0) == len(Y) else Node(\"Y=1\")\n",
        "    # Calculating H(Y)\n",
        "    H_Y = max(np.array(0), self.entropy(Y))\n",
        "\n",
        "    # # Calculating H(Y|X)\n",
        "    cond_X_Y = []\n",
        "    for i in range(X.shape[1]):\n",
        "      P_X_0 = (X[:,i] == 0).sum(0) / len(X[:,i])\n",
        "      P_X_1 = (X[:,i] == 1).sum(0) / len(X[:,i])\n",
        "      H_Y_X_0 = max(0, self.entropy(Y[np.where(X[:,i]==0)]))\n",
        "      H_Y_X_1 = max(0, self.entropy(Y[np.where(X[:,i]==1)]))\n",
        "      cond_X_Y.append(P_X_0 * H_Y_X_0 + P_X_1 * H_Y_X_1)\n",
        "    \n",
        "    # Calculating IG\n",
        "    IG = H_Y - cond_X_Y\n",
        "\n",
        "    # Pick the index which has the maximum IG and split on the same\n",
        "    max_IG = np.argmax(IG)\n",
        "\n",
        "    # Build a node based on the picked node\n",
        "    self.nodes[max_IG] += 1\n",
        "    node = Node(max_IG)\n",
        "\n",
        "    # Left child would correspond to choosing data where X_maxig == 0\n",
        "    node.left = self.entropy_fit(data[np.where(data[:,max_IG] == 0)],\n",
        "                                 depth+1 if depth!=None else None)\n",
        "    # Left child would correspond to choosing data where X_maxig == 1\n",
        "    node.right = self.entropy_fit(data[np.where(data[:,max_IG] == 1)], \n",
        "                                  depth+1 if depth!=None else None)\n",
        "    return node\n",
        "\n",
        "  def gini_fit(self, data:np.array) -> None:\n",
        "    \"\"\"\n",
        "      Function to fit decision tree using Gini index, the fitted tree is stored as Node in member variable tree\n",
        "      Input:\n",
        "        data  : Data to fit the tree on\n",
        "    \"\"\"\n",
        "\n",
        "    # Exit condition where all the Y values of data is same \n",
        "    if (((data[:,-1]==0).sum(0) == len(data[:,-1])) or ((data[:,-1]==1).sum(0) == len(data[:,-1])) ):\n",
        "      return Node(\"Y=0\") if (data[:,-1] == 0).sum(0) == len(data[:,-1]) else Node(\"Y=1\")\n",
        "    gini = []\n",
        "\n",
        "    # Calculate gini index for each column\n",
        "    for c in range(data.shape[1] - 1):\n",
        "      N = len(data[:,c])\n",
        "      c_0 = data[np.where(data[:,c] == 0)]\n",
        "      c_1 = data[np.where(data[:,c] == 1)]\n",
        "      G_c_0 = 1 - ((len(c_0[np.where(c_0[:,-1] == 0)])/c_0.shape[0]) ** 2 if c_0.size != 0 else 0) - \\\n",
        "      ((len(c_0[np.where(c_0[:,-1] == 1)])/c_0.shape[0]) ** 2 if c_0.size != 0 else 0)\n",
        "      G_c_1 = 1 - ((len(c_1[np.where(c_1[:,-1] == 0)])/c_1.shape[0]) ** 2 if c_1.size != 0 else 0) - \\\n",
        "      ((len(c_1[np.where(c_1[:,-1] == 1)])/c_1.shape[0]) ** 2 if c_1.size != 0 else 0)\n",
        "      gini.append(c_0.shape[0] / N * G_c_0 + c_1.shape[0] / N * G_c_1)\n",
        "    gini = np.array(gini)\n",
        "\n",
        "    # Pick the column which has the minimum gini as the splitting variable\n",
        "    split_var = gini.argmin()\n",
        "\n",
        "    # Build a node based on the picked node\n",
        "    node = Node(split_var)\n",
        "\n",
        "    # Left child would correspond to choosing data where X_maxig == 0\n",
        "    node.left = self.gini_fit(data[np.where(data[:,split_var] == 0)])\n",
        "    \n",
        "    # Left child would correspond to choosing data where X_maxig == 1\n",
        "    node.right = self.gini_fit(data[np.where(data[:,split_var] == 1)])\n",
        "    return node\n",
        "\n",
        "  def train(self, method:str=\"entropy\")->None:\n",
        "    \"\"\"\n",
        "      Single function to call the training code\n",
        "      Input:\n",
        "        method: \n",
        "    \"\"\"\n",
        "    assert (method == \"entropy\") or (method == \"gini\"), \"Invalid method argument, Please choose either entropy or gini\"\n",
        "    if method == \"entropy\":\n",
        "      self.tree=self.entropy_fit(self.data, 0)\n",
        "    elif method == \"gini\":\n",
        "      self.tree=self.gini_fit(self.data)\n",
        "  \n",
        "  def get_y(self, vector:np.array, node:Node) -> int:\n",
        "    \"\"\"\n",
        "      Function that recurses over the tree to get to the leaf\n",
        "    \"\"\"\n",
        "\n",
        "    if type(node.data) == str :\n",
        "      return int(node.data[-1])\n",
        "    if vector[node.data] == 0:\n",
        "      return self.get_y(vector, node.left)\n",
        "    else:\n",
        "      return self.get_y(vector, node.right)\n",
        "\n",
        "\n",
        "  def predict(self, data:np.array)->List:\n",
        "    \"\"\"\n",
        "      Function to predict on the given data\n",
        "      Input:\n",
        "        data: data on which to predict\n",
        "    \"\"\"\n",
        "\n",
        "    assert self.tree is not None, \"Model not trained yet!! Run train() before predict\"\n",
        "    correct_count = 0\n",
        "    y = []\n",
        "    for i in data:\n",
        "      y.append(self.get_y(i, self.tree))\n",
        "    return y\n",
        "  \n",
        "  def error(self, data:np.array=None) -> float:\n",
        "    \"\"\"\n",
        "      Find the error the trained tree on the given data\n",
        "      Input:\n",
        "        data: data on which to find the error\n",
        "    \"\"\"\n",
        "    d = data if data is not None else self.data\n",
        "    y_hat = self.predict(d[:,:-1])\n",
        "    y = d[:, -1]\n",
        "    return 1 - (y_hat == y).sum(0) / len(y)\n",
        "  \n",
        "  def estimate_distribution_error(self,m:int=None, N:int=100)->float:\n",
        "    \"\"\"\n",
        "      Find the underlying distribution error. We do this by regenerating the data \n",
        "      N times and averaging the error from the regenerated data\n",
        "      Input:\n",
        "        m : size of the regenerated data\n",
        "        N : number of times we need to regenerate the data \n",
        "    \"\"\"\n",
        "    error = 0\n",
        "    for i in range(N):\n",
        "      self.regenerate_data(m = m)\n",
        "      error += self.error()\n",
        "    return error / N"
      ],
      "execution_count": null,
      "outputs": []
    },
    {
      "cell_type": "markdown",
      "metadata": {
        "id": "NA_o7nFGlzYx"
      },
      "source": [
        "# Questions :\n"
      ]
    },
    {
      "cell_type": "markdown",
      "metadata": {
        "id": "XCy-xIFYE49O"
      },
      "source": [
        "1) Write a function to generate m samples of (X, Y ), and another to fit a tree to that data using ID3. Write a\n",
        "third function to, given a decision tree f , estimate the error rate of that decision tree on the underlying data,\n",
        "err(f ). Do this repeatedly for a range of m values, and plot the ‘typical’ error of a tree trained on m data\n",
        "points as a function of m. Does this agree with your intuition?"
      ]
    },
    {
      "cell_type": "markdown",
      "metadata": {
        "id": "duXF3pVjE4tl"
      },
      "source": [
        "Ans:\n",
        "\n",
        "The function to generate m samples is DecisionTree.datagenerator2.\n",
        "\n",
        "\n",
        "\n",
        "```\n",
        "  @classmethod\n",
        "  def datagenerator2(self, m:int)->np.array:\n",
        "    \"\"\"\n",
        "    Generate data accoriding to the given specification (Q2)\n",
        "    Input:\n",
        "      m: number of data points\n",
        "    Returns:\n",
        "      Numpy array of size (m,k)\n",
        "    \"\"\"\n",
        "    data = [[0 for _ in range(22)] for _ in range(m)]\n",
        "    for i in range(m):\n",
        "      for j in range(21):\n",
        "        if j == 0 :\n",
        "          data[i][j] = 0 if np.random.random() <= 0.5 else 1\n",
        "        if (j >= 1) and (j<=14):\n",
        "          data[i][j] = data[i][j-1] if np.random.random() > 0.25 else 1-data[i][j-1]\n",
        "        if (j >= 15) and (j<21):\n",
        "          data[i][j] = 0 if np.random.random() <= 0.5 else 1\n",
        "      data[i][21] = np.bincount(data[i][8:15]).argmax() if data[i][0] else np.bincount(data[i][1:8]).argmax()\n",
        "    return np.array(data)\n",
        "```\n",
        "\n",
        "\n"
      ]
    },
    {
      "cell_type": "code",
      "metadata": {
        "id": "SVr9ssSkE4LD"
      },
      "source": [
        "data = DecisionTree.datagenerator2(m=1000)"
      ],
      "execution_count": null,
      "outputs": []
    },
    {
      "cell_type": "code",
      "metadata": {
        "id": "P5ahdE7eFhgo",
        "outputId": "86f43606-4ad6-4d35-9073-160cbd2075f1",
        "colab": {
          "base_uri": "https://localhost:8080/",
          "height": 191
        }
      },
      "source": [
        "data[:10,:]"
      ],
      "execution_count": null,
      "outputs": [
        {
          "output_type": "execute_result",
          "data": {
            "text/plain": [
              "array([[1, 1, 1, 1, 1, 1, 1, 1, 1, 1, 1, 0, 0, 0, 1, 0, 0, 1, 0, 1, 1, 1],\n",
              "       [1, 0, 0, 1, 0, 0, 0, 0, 0, 0, 0, 0, 0, 1, 1, 1, 0, 1, 1, 1, 0, 0],\n",
              "       [0, 0, 1, 1, 1, 1, 1, 1, 1, 0, 0, 0, 0, 1, 1, 1, 0, 1, 1, 0, 0, 1],\n",
              "       [1, 1, 1, 0, 0, 1, 1, 1, 1, 1, 0, 0, 0, 0, 0, 1, 1, 1, 1, 1, 0, 0],\n",
              "       [1, 1, 1, 0, 0, 0, 1, 1, 1, 1, 1, 0, 0, 0, 0, 0, 1, 0, 1, 1, 1, 0],\n",
              "       [0, 0, 1, 1, 1, 1, 1, 1, 1, 0, 0, 1, 0, 0, 0, 1, 1, 0, 1, 0, 0, 1],\n",
              "       [0, 0, 0, 0, 0, 0, 1, 1, 1, 1, 1, 1, 1, 1, 0, 0, 1, 1, 1, 0, 1, 0],\n",
              "       [1, 1, 0, 0, 0, 0, 0, 0, 0, 0, 1, 1, 1, 0, 0, 0, 1, 0, 1, 0, 1, 0],\n",
              "       [0, 1, 1, 0, 0, 0, 1, 1, 1, 0, 0, 0, 0, 0, 1, 0, 1, 1, 1, 1, 0, 1],\n",
              "       [0, 0, 0, 0, 0, 1, 1, 0, 0, 0, 1, 1, 0, 0, 0, 0, 1, 0, 0, 0, 0, 0]])"
            ]
          },
          "metadata": {
            "tags": []
          },
          "execution_count": 5
        }
      ]
    },
    {
      "cell_type": "markdown",
      "metadata": {
        "id": "z3fi2s-XFmgC"
      },
      "source": [
        "We can also generate data using DecisionTree class contructor"
      ]
    },
    {
      "cell_type": "code",
      "metadata": {
        "id": "cCR80nrWFmUY"
      },
      "source": [
        "dt = DecisionTree(m=10000)"
      ],
      "execution_count": null,
      "outputs": []
    },
    {
      "cell_type": "code",
      "metadata": {
        "id": "DZpFvcxWFx7I",
        "outputId": "e6242d4f-445d-4516-8bb3-afdaf5dd69a9",
        "colab": {
          "base_uri": "https://localhost:8080/",
          "height": 191
        }
      },
      "source": [
        "dt.data[:10,:]"
      ],
      "execution_count": null,
      "outputs": [
        {
          "output_type": "execute_result",
          "data": {
            "text/plain": [
              "array([[0, 0, 1, 1, 0, 0, 0, 1, 1, 1, 0, 0, 1, 1, 1, 0, 0, 1, 1, 1, 0, 0],\n",
              "       [1, 1, 1, 0, 0, 0, 0, 0, 0, 0, 1, 0, 0, 0, 0, 0, 1, 0, 1, 0, 0, 0],\n",
              "       [0, 1, 1, 1, 1, 1, 1, 1, 1, 0, 0, 0, 1, 1, 0, 1, 1, 1, 1, 1, 1, 1],\n",
              "       [0, 0, 0, 0, 0, 0, 0, 1, 0, 1, 1, 1, 1, 1, 1, 1, 1, 0, 0, 1, 1, 0],\n",
              "       [1, 1, 1, 0, 0, 1, 1, 1, 0, 0, 1, 0, 1, 0, 1, 1, 1, 0, 0, 0, 0, 0],\n",
              "       [0, 1, 1, 1, 1, 1, 1, 1, 1, 1, 0, 0, 1, 1, 0, 0, 1, 0, 1, 0, 1, 1],\n",
              "       [0, 1, 0, 0, 1, 1, 1, 0, 1, 1, 1, 1, 1, 1, 1, 0, 1, 0, 0, 0, 1, 1],\n",
              "       [1, 1, 1, 1, 1, 0, 0, 1, 1, 0, 0, 0, 1, 1, 0, 1, 0, 0, 1, 1, 1, 0],\n",
              "       [0, 0, 1, 1, 1, 1, 0, 1, 1, 1, 1, 1, 1, 1, 1, 0, 1, 0, 1, 0, 1, 1],\n",
              "       [0, 1, 1, 1, 1, 1, 1, 0, 0, 1, 0, 0, 0, 0, 0, 1, 0, 1, 0, 0, 1, 1]])"
            ]
          },
          "metadata": {
            "tags": []
          },
          "execution_count": 7
        }
      ]
    },
    {
      "cell_type": "markdown",
      "metadata": {
        "id": "Pn_f6QxWFmG8"
      },
      "source": [
        "The DecisionTree constructor can also take the already generated data as `DecisionTree(data=data)` and generate an object"
      ]
    },
    {
      "cell_type": "code",
      "metadata": {
        "id": "MWMwJ09fFl1M"
      },
      "source": [
        "dt = DecisionTree(data=data)"
      ],
      "execution_count": null,
      "outputs": []
    },
    {
      "cell_type": "code",
      "metadata": {
        "id": "Lbf_PeCyFlaS",
        "outputId": "f7692697-5b6f-4a8c-cc65-a1402fb4d44b",
        "colab": {
          "base_uri": "https://localhost:8080/",
          "height": 191
        }
      },
      "source": [
        "dt.data[:10,:]"
      ],
      "execution_count": null,
      "outputs": [
        {
          "output_type": "execute_result",
          "data": {
            "text/plain": [
              "array([[1, 1, 1, 1, 1, 1, 1, 1, 1, 1, 1, 0, 0, 0, 1, 0, 0, 1, 0, 1, 1, 1],\n",
              "       [1, 0, 0, 1, 0, 0, 0, 0, 0, 0, 0, 0, 0, 1, 1, 1, 0, 1, 1, 1, 0, 0],\n",
              "       [0, 0, 1, 1, 1, 1, 1, 1, 1, 0, 0, 0, 0, 1, 1, 1, 0, 1, 1, 0, 0, 1],\n",
              "       [1, 1, 1, 0, 0, 1, 1, 1, 1, 1, 0, 0, 0, 0, 0, 1, 1, 1, 1, 1, 0, 0],\n",
              "       [1, 1, 1, 0, 0, 0, 1, 1, 1, 1, 1, 0, 0, 0, 0, 0, 1, 0, 1, 1, 1, 0],\n",
              "       [0, 0, 1, 1, 1, 1, 1, 1, 1, 0, 0, 1, 0, 0, 0, 1, 1, 0, 1, 0, 0, 1],\n",
              "       [0, 0, 0, 0, 0, 0, 1, 1, 1, 1, 1, 1, 1, 1, 0, 0, 1, 1, 1, 0, 1, 0],\n",
              "       [1, 1, 0, 0, 0, 0, 0, 0, 0, 0, 1, 1, 1, 0, 0, 0, 1, 0, 1, 0, 1, 0],\n",
              "       [0, 1, 1, 0, 0, 0, 1, 1, 1, 0, 0, 0, 0, 0, 1, 0, 1, 1, 1, 1, 0, 1],\n",
              "       [0, 0, 0, 0, 0, 1, 1, 0, 0, 0, 1, 1, 0, 0, 0, 0, 1, 0, 0, 0, 0, 0]])"
            ]
          },
          "metadata": {
            "tags": []
          },
          "execution_count": 9
        }
      ]
    },
    {
      "cell_type": "markdown",
      "metadata": {
        "id": "vVxAdkT5GwIw"
      },
      "source": [
        "To fit the data, we use the DecisionTree's train method\n",
        "\n",
        "```\n",
        "  dt.train()\n",
        "```\n",
        "\n",
        "\n"
      ]
    },
    {
      "cell_type": "code",
      "metadata": {
        "id": "Jgfdc0RZM5LP"
      },
      "source": [
        "dt.train()"
      ],
      "execution_count": null,
      "outputs": []
    },
    {
      "cell_type": "markdown",
      "metadata": {
        "id": "2Nw7VVf9HyIX"
      },
      "source": [
        "To estimate the underlying distribution error, call the DecisionTree's estimate_distribution_error\n",
        "\n",
        "```\n",
        "dt.estimate_distribution_error(m , N)\n",
        "```\n",
        "m: size of the data\n",
        "N: is the number of times to regenerate the data based on the given scheme\n",
        "\n",
        "This function regenerates data, using the trained tree to predict and calculate the error\n"
      ]
    },
    {
      "cell_type": "code",
      "metadata": {
        "id": "ySRkXZb5HxzX",
        "outputId": "d7cf23f5-07ff-4ee4-94e7-78b38966af37",
        "colab": {
          "base_uri": "https://localhost:8080/",
          "height": 34
        }
      },
      "source": [
        "dt.estimate_distribution_error(N=2000)"
      ],
      "execution_count": null,
      "outputs": [
        {
          "output_type": "execute_result",
          "data": {
            "text/plain": [
              "0.0695769999999994"
            ]
          },
          "metadata": {
            "tags": []
          },
          "execution_count": 11
        }
      ]
    },
    {
      "cell_type": "markdown",
      "metadata": {
        "id": "EsK0DHvKp5eD"
      },
      "source": [
        "The following code plots the error of the distribution against the size of the data"
      ]
    },
    {
      "cell_type": "code",
      "metadata": {
        "id": "QNgfuXfJp6k6",
        "outputId": "03a0535a-4b75-4435-a8fd-39e4f0e70ff9",
        "colab": {
          "base_uri": "https://localhost:8080/",
          "height": 282
        }
      },
      "source": [
        "m_range = np.arange(100, 2000, 10)\n",
        "error_mrange = []\n",
        "for i in m_range:\n",
        "  dt = DecisionTree(m=i)\n",
        "  dt.train()\n",
        "  error_mrange.append(dt.estimate_distribution_error(N=100))\n",
        "plt.plot(m_range, error_mrange)"
      ],
      "execution_count": null,
      "outputs": [
        {
          "output_type": "execute_result",
          "data": {
            "text/plain": [
              "[<matplotlib.lines.Line2D at 0x7f991a3f58d0>]"
            ]
          },
          "metadata": {
            "tags": []
          },
          "execution_count": 12
        },
        {
          "output_type": "display_data",
          "data": {
            "image/png": "[encoded data removed]",
            "text/plain": [
              "<Figure size 432x288 with 1 Axes>"
            ]
          },
          "metadata": {
            "tags": [],
            "needs_background": "light"
          }
        }
      ]
    },
    {
      "cell_type": "markdown",
      "metadata": {
        "id": "p6Ds68H2l8eg"
      },
      "source": [
        "From the graph we can see that as size of the data increases, the error decreases. This is same as my intuition as more data allows us build deeper trees and deeper trees in turn makes error of the distribution smaller\n"
      ]
    },
    {
      "cell_type": "markdown",
      "metadata": {
        "id": "rjHlmNYEp6y4"
      },
      "source": [
        "***"
      ]
    },
    {
      "cell_type": "markdown",
      "metadata": {
        "id": "5BBVuXsVp55p"
      },
      "source": [
        "2) Note that X 15 through X 20 are completely irrelevant to predicting the value of Y . For a range of m values,\n",
        "repeatedly generate data sets of that size and fit trees to that data, and estimate the average number of\n",
        "irrelevant variables that are included in the fit tree. How much data would you need, typically, to avoid fitting\n",
        "on this noise?"
      ]
    },
    {
      "cell_type": "code",
      "metadata": {
        "id": "1XsiZMOGJyIe"
      },
      "source": [
        "dt = DecisionTree(m=100000)"
      ],
      "execution_count": null,
      "outputs": []
    },
    {
      "cell_type": "code",
      "metadata": {
        "id": "CPOiy1fWxrMF"
      },
      "source": [
        "def percentage_irrelevant(nodes:Counter):\n",
        "  irrelevant_count = 0\n",
        "  for i, j in  dt.nodes.items():\n",
        "    if i > 14:\n",
        "      irrelevant_count += j\n",
        "  return irrelevant_count \n"
      ],
      "execution_count": null,
      "outputs": []
    },
    {
      "cell_type": "code",
      "metadata": {
        "id": "Sl3pHvCFwB-F"
      },
      "source": [
        "m_range = np.arange(1000, 20000, 1000)\n",
        "N = 100\n",
        "total_irrelevant = []\n",
        "for i in m_range:\n",
        "  m_irrelevant = 0\n",
        "  for j in range(N):\n",
        "    dt = DecisionTree(m=i)\n",
        "    dt.train()\n",
        "    m_irrelevant += percentage_irrelevant(dt.nodes)\n",
        "  total_irrelevant.append(m_irrelevant / N)\n",
        "\n"
      ],
      "execution_count": null,
      "outputs": []
    },
    {
      "cell_type": "code",
      "metadata": {
        "id": "lrZ5IciVStz3",
        "outputId": "1b519066-c290-4965-ad02-4e7ac4ae87e7",
        "colab": {
          "base_uri": "https://localhost:8080/",
          "height": 279
        }
      },
      "source": [
        "plt.plot(m_range, total_irrelevant)\n",
        "plt.xlabel(\"Size of the dataset\")\n",
        "plt.ylabel(\"Avg no of irrelevant variables\")\n",
        "plt.show()"
      ],
      "execution_count": null,
      "outputs": [
        {
          "output_type": "display_data",
          "data": {
            "image/png": "[encoded data removed]",
            "text/plain": [
              "<Figure size 432x288 with 1 Axes>"
            ]
          },
          "metadata": {
            "tags": [],
            "needs_background": "light"
          }
        }
      ]
    },
    {
      "cell_type": "markdown",
      "metadata": {
        "id": "MAXh2QX2wBp9"
      },
      "source": [
        "For this question, I expect the irrelevant feature to be always there in the decision tree. But the number of irrelevant features in our tree decreases as we increase the size of dataset as can be seen from the graph above which plots the average number of irrelevant features compared to total features against the size of the data. I assume this trend continues and some larger size value the irrelevant features would not be a part of the trees"
      ]
    },
    {
      "cell_type": "markdown",
      "metadata": {
        "id": "HIf4qgaw5F5c"
      },
      "source": [
        "\n",
        "***"
      ]
    },
    {
      "cell_type": "markdown",
      "metadata": {
        "id": "37s1zPAfp5PG"
      },
      "source": [
        "3) Generate a data set of size m = 10000, and set aside 8000 points for training, and 2000 points for testing. The\n",
        "remaining questions should all be applied to this data set."
      ]
    },
    {
      "cell_type": "code",
      "metadata": {
        "id": "7UpZ7iCv5mhj"
      },
      "source": [
        "data = DecisionTree.datagenerator2(10000)\n",
        "np.random.shuffle(data)\n",
        "train_data, test_data = data[:8000, :], data[8000:,:]"
      ],
      "execution_count": null,
      "outputs": []
    },
    {
      "cell_type": "markdown",
      "metadata": {
        "id": "hWWnkXv-5kWy"
      },
      "source": [
        "Pruning by depth: Consider growing a tree as a process - running ID3 for instance until all splits\n",
        "up to depth d have been performed. Depth d = 0 should correspond to no decisions - a prediction for Y\n",
        "is made just on the raw frequencies of Y in the data. Plot, as a function of d, the error on the training\n",
        "set and the error on the test set for a tree grown to depth d. What does your data suggest as a good\n",
        "threshold depth?\n"
      ]
    },
    {
      "cell_type": "markdown",
      "metadata": {
        "id": "aUfnjdGdXPGF"
      },
      "source": [
        "We can prune by depth, by sending the depth information as a paramter to the decision tree constructor as follows:\n",
        "\n",
        "\n",
        "```\n",
        "DecisionTree(train_data, d = <desirable_depth>)\n",
        "```\n",
        "\n"
      ]
    },
    {
      "cell_type": "code",
      "metadata": {
        "id": "fAYEleM45WDO",
        "outputId": "8a72eceb-196d-47af-d368-be1ed28f37c2",
        "colab": {
          "base_uri": "https://localhost:8080/",
          "height": 513
        }
      },
      "source": [
        "d_range = np.arange(1,20)\n",
        "train_error = []\n",
        "test_error = []\n",
        "actual_max = []\n",
        "for i in d_range:\n",
        "  dt = DecisionTree(train_data, d = i)\n",
        "  dt.train()\n",
        "  train_error.append(dt.error())\n",
        "  test_error.append(dt.error(test_data))\n",
        "  actual_max.append(maxDepth(dt.tree))\n",
        "plt.figure(figsize=(10,8))\n",
        "plt.plot(d_range, train_error, label = \"Train error\")\n",
        "plt.plot(d_range, test_error, label=\"Test error\")\n",
        "plt.legend()\n",
        "plt.title(\"Pruning by depth\")\n",
        "plt.xlabel(\"depth\")\n",
        "plt.ylabel(\"error\")\n",
        "plt.show()"
      ],
      "execution_count": null,
      "outputs": [
        {
          "output_type": "display_data",
          "data": {
            "image/png": "[encoded data removed]",
            "text/plain": [
              "<Figure size 720x576 with 1 Axes>"
            ]
          },
          "metadata": {
            "tags": [],
            "needs_background": "light"
          }
        }
      ]
    },
    {
      "cell_type": "markdown",
      "metadata": {
        "id": "02gVIbiALQrj"
      },
      "source": [
        "The graph above shows for a range of d vs error rate for the same\n",
        "\n",
        "Observations: As d increases, the error decreases and agrees to my intuition as we'll be using more information to predict. Also we see that after around d=8, the error remains constant. I initially thought this was because the max depth of the tree for this data would be 8, but the following graph which plots the depth range vs actual max depth of the tree shows that the actual max is 15"
      ]
    },
    {
      "cell_type": "code",
      "metadata": {
        "id": "5i5LhILjdfuf",
        "outputId": "c9e168f1-0dd1-4051-fd59-8f7333cf4658",
        "colab": {
          "base_uri": "https://localhost:8080/",
          "height": 530
        }
      },
      "source": [
        "plt.figure(figsize=(10,8))\n",
        "plt.plot(d_range, actual_max)\n",
        "plt.xlabel(\"Depth range\")\n",
        "plt.ylabel(\"actual max depth \")\n",
        "plt.title(\"Depth range vs actaul max depth of the tree\")"
      ],
      "execution_count": null,
      "outputs": [
        {
          "output_type": "execute_result",
          "data": {
            "text/plain": [
              "Text(0.5, 1.0, 'Depth range vs actaul max depth of the tree')"
            ]
          },
          "metadata": {
            "tags": []
          },
          "execution_count": 69
        },
        {
          "output_type": "display_data",
          "data": {
            "image/png": "[encoded data removed]",
            "text/plain": [
              "<Figure size 720x576 with 1 Axes>"
            ]
          },
          "metadata": {
            "tags": [],
            "needs_background": "light"
          }
        }
      ]
    },
    {
      "cell_type": "markdown",
      "metadata": {
        "id": "u0_3nbEGdiFk"
      },
      "source": [
        "This means, by elbow method after a depth of around we wouldn't have much gain and thus we can choose the threshold as 8"
      ]
    },
    {
      "cell_type": "markdown",
      "metadata": {
        "id": "2RIuy7zr8yDI"
      },
      "source": [
        "b) Pruning by Sample Size: The less data a split is performed on, the less ‘accurate’ we expect the\n",
        "result of that split to be. Let s be a threshold such that if the data available at a node in your decision\n",
        "tree is less than or equal to s, you do not split and instead decide Y by simple majority vote (ties broken\n",
        "by coin flip). Plot, as a function of s, the error on the training set and the error on the testing set for a\n",
        "tree split down to sample size s. What does your data suggest as a good sample size threshold?"
      ]
    },
    {
      "cell_type": "code",
      "metadata": {
        "id": "Xo_b_GFG8_TA"
      },
      "source": [
        "s_range = np.arange(1, 8000, 10)"
      ],
      "execution_count": null,
      "outputs": []
    },
    {
      "cell_type": "code",
      "metadata": {
        "id": "BK30yT_J5V5s",
        "outputId": "85edb050-6cc9-400c-e516-f411a7ed5d93",
        "colab": {
          "base_uri": "https://localhost:8080/",
          "height": 513
        }
      },
      "source": [
        "train_error = []\n",
        "test_error = []\n",
        "for i in s_range:\n",
        "  dt = DecisionTree(train_data, s = i)\n",
        "  dt.train()\n",
        "  train_error.append(dt.error())\n",
        "  test_error.append(dt.error(test_data))\n",
        "fig, ax = plt.subplots(1,1,figsize=(10,8))\n",
        "ax.plot((s_range), train_error, label=\"Train\")\n",
        "ax.plot((s_range), test_error, label=\"Test\")\n",
        "plt.xlabel(\"Size of the data\")\n",
        "plt.ylabel(\"Error\")\n",
        "plt.legend()\n",
        "plt.title(\"Sample Size v Error\")\n",
        "plt.show()"
      ],
      "execution_count": null,
      "outputs": [
        {
          "output_type": "display_data",
          "data": {
            "image/png": "[encoded data removed]",
            "text/plain": [
              "<Figure size 720x576 with 1 Axes>"
            ]
          },
          "metadata": {
            "tags": [],
            "needs_background": "light"
          }
        }
      ]
    },
    {
      "cell_type": "markdown",
      "metadata": {
        "id": "DYklCYVU5Vv-"
      },
      "source": [
        "Observations: The error decreases as the sample size threshold decreases and it isn't possible to get a threshold from this graph. We see there are a lot of straight line in error as we increase the sample size s, this is because for these ranges of sample size, the tree remains the same\n",
        "\n",
        "We'll do the same experiment on the a smaller s range:"
      ]
    },
    {
      "cell_type": "code",
      "metadata": {
        "id": "IdhkJ7OznsR6",
        "outputId": "de282101-48ad-47a9-e3dd-16a32ea8ab1a",
        "colab": {
          "base_uri": "https://localhost:8080/",
          "height": 513
        }
      },
      "source": [
        "s_range = np.arange(1, 100, 5)\n",
        "train_error = []\n",
        "test_error = []\n",
        "for i in s_range:\n",
        "  dt = DecisionTree(train_data, s = i)\n",
        "  dt.train()\n",
        "  train_error.append(dt.error())\n",
        "  test_error.append(dt.error(test_data))\n",
        "fig, ax = plt.subplots(1,1,figsize=(10,8))\n",
        "ax.plot((s_range), train_error, label=\"Train error\")\n",
        "ax.plot((s_range), test_error, label=\"Test error\")\n",
        "plt.xlabel(\"Size of the data\")\n",
        "plt.ylabel(\"Error\")\n",
        "plt.legend()\n",
        "plt.title(\"Sample Size v Error\")\n",
        "plt.show()"
      ],
      "execution_count": null,
      "outputs": [
        {
          "output_type": "display_data",
          "data": {
            "image/png": "[encoded data removed]",
            "text/plain": [
              "<Figure size 720x576 with 1 Axes>"
            ]
          },
          "metadata": {
            "tags": [],
            "needs_background": "light"
          }
        }
      ]
    },
    {
      "cell_type": "markdown",
      "metadata": {
        "id": "N1Qw-okrnr19"
      },
      "source": [
        "At around 70, we see a small increase and decrease in the testing error, we'll choose this as our threshold"
      ]
    },
    {
      "cell_type": "code",
      "metadata": {
        "id": "mrIpTztlnrWg"
      },
      "source": [
        "a"
      ],
      "execution_count": null,
      "outputs": []
    },
    {
      "cell_type": "markdown",
      "metadata": {
        "id": "UFwHd8-ZV-Wf"
      },
      "source": [
        "____"
      ]
    },
    {
      "cell_type": "markdown",
      "metadata": {
        "id": "fs3nud-w5VD9"
      },
      "source": [
        "5) Repeat the computation of Problem 2, growing your trees only to depth d as chosen in 3.a. How does this\n",
        "change the likelihood or frequency of including spurious variables in your trees?"
      ]
    },
    {
      "cell_type": "code",
      "metadata": {
        "id": "HHTfsa8V2Byd"
      },
      "source": [
        "total_irrelevant_d = []\n",
        "m_range = np.arange(1000, 20000, 1000)\n",
        "N = 100\n",
        "for i in m_range:\n",
        "  m_irrelevant = 0\n",
        "  for j in range(N):\n",
        "    dt = DecisionTree(m=i, d=8)\n",
        "    dt.train()\n",
        "    m_irrelevant += percentage_irrelevant(dt.nodes)\n",
        "  total_irrelevant_d.append(m_irrelevant / N)\n",
        "\n"
      ],
      "execution_count": null,
      "outputs": []
    },
    {
      "cell_type": "code",
      "metadata": {
        "id": "wFfFGA2qwcYT",
        "outputId": "fa3b0704-b023-46de-c1e5-b70f654fab2a",
        "colab": {
          "base_uri": "https://localhost:8080/",
          "height": 295
        }
      },
      "source": [
        "plt.plot(d_range, total_irrelevant_d, label = \"With d=8\")\n",
        "plt.plot(d_range, total_irrelevant, label=\"No Pruning\")\n",
        "plt.legend()\n",
        "plt.title(\"Pruning with depth v No Pruning\")\n",
        "plt.xlabel(\"Depth of the tree\")\n",
        "plt.ylabel(\"No. of irrelevent variables\")\n",
        "plt.show()"
      ],
      "execution_count": null,
      "outputs": [
        {
          "output_type": "display_data",
          "data": {
            "image/png": "[encoded data removed]",
            "text/plain": [
              "<Figure size 432x288 with 1 Axes>"
            ]
          },
          "metadata": {
            "tags": [],
            "needs_background": "light"
          }
        }
      ]
    },
    {
      "cell_type": "markdown",
      "metadata": {
        "id": "KmVzAkdsoqda"
      },
      "source": [
        "Observation: From the graph we can clearly see the effect of pruning. It removes more unrrelevant data compared to the No Pruning"
      ]
    },
    {
      "cell_type": "markdown",
      "metadata": {
        "id": "x03PH3F9pYEG"
      },
      "source": [
        "***"
      ]
    },
    {
      "cell_type": "markdown",
      "metadata": {
        "id": "q7Rj7IyqpalE"
      },
      "source": [
        "6) Repeat the computation of Problem 2, splitting your trees only to sample size s as chosen in 3.b. How does\n",
        "this change the likelihood or frequency of including spurious variables in your trees?"
      ]
    },
    {
      "cell_type": "code",
      "metadata": {
        "id": "YjQSccKs3mzO"
      },
      "source": [
        "total_irrelevant_s = []\n",
        "m_range = np.arange(1000, 10000, 1000)\n",
        "N = 100\n",
        "for i in m_range:\n",
        "  m_irrelevant = 0\n",
        "  for j in range(N):\n",
        "    dt = DecisionTree(m=i, s=70 )\n",
        "    dt.train()\n",
        "    m_irrelevant += percentage_irrelevant(dt.nodes)\n",
        "  total_irrelevant_s.append(m_irrelevant / N)\n",
        "\n"
      ],
      "execution_count": null,
      "outputs": []
    },
    {
      "cell_type": "code",
      "metadata": {
        "id": "RtwxRHhTFM14",
        "outputId": "739ff604-5676-44ba-cef1-dd4d1724ba77",
        "colab": {
          "base_uri": "https://localhost:8080/",
          "height": 295
        }
      },
      "source": [
        "plt.plot(m_range, total_irrelevant_s, label = \"With s=70\")\n",
        "plt.plot(m_range, total_irrelevant[:9], label=\"No Pruning\")\n",
        "plt.legend()\n",
        "plt.title(\"Pruning with sampling v No Pruning\")\n",
        "plt.xlabel(\"Samples\")\n",
        "plt.ylabel(\"No. of irrelevent variables\")\n",
        "plt.show()"
      ],
      "execution_count": null,
      "outputs": [
        {
          "output_type": "display_data",
          "data": {
            "image/png": "[encoded data removed]",
            "text/plain": [
              "<Figure size 432x288 with 1 Axes>"
            ]
          },
          "metadata": {
            "tags": [],
            "needs_background": "light"
          }
        }
      ]
    },
    {
      "cell_type": "markdown",
      "metadata": {
        "id": "AE3mJdkkGvgl"
      },
      "source": [
        "Observation: From the graph we can clearly see the effect of pruning. It removes more unrrelevant data compared to the No Pruning."
      ]
    },
    {
      "cell_type": "code",
      "metadata": {
        "id": "ZfyRIdUvqKA5"
      },
      "source": [
        ""
      ],
      "execution_count": null,
      "outputs": []
    }
  ]
}